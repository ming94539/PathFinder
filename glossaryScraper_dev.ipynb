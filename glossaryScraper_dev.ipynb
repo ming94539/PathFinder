{
 "cells": [
  {
   "cell_type": "code",
   "execution_count": 1,
   "metadata": {},
   "outputs": [],
   "source": [
    "import pandas as pd\n",
    "import re\n",
    "from selenium import webdriver\n",
    "from selenium.webdriver.support.ui import WebDriverWait\n",
    "from selenium.webdriver.common.action_chains import ActionChains\n",
    "from selenium.webdriver.common.keys import Keys\n",
    "from selenium.webdriver.chrome.options import Options\n",
    "from bs4 import BeautifulSoup\n",
    "import time"
   ]
  },
  {
   "cell_type": "code",
   "execution_count": 5,
   "metadata": {},
   "outputs": [],
   "source": [
    "current_options = Options()\n",
    "current_options.headless = True\n",
    "browser = webdriver.Chrome(\"./chromedriver\",options=current_options)\n",
    "#browser.set_window_size(1920, 1080)\n"
   ]
  },
  {
   "cell_type": "code",
   "execution_count": 51,
   "metadata": {},
   "outputs": [],
   "source": [
    "url = \"https://glossarytech.com\"\n",
    "browser.get(url)\n",
    "time.sleep(1)\n",
    "pageSource = browser.page_source\n",
    "lxml_soup = BeautifulSoup(pageSource, 'lxml')\n"
   ]
  },
  {
   "cell_type": "code",
   "execution_count": 52,
   "metadata": {},
   "outputs": [],
   "source": [
    "num_pages=[5,1,8,3,1,2,2,1,3,1,1,5,9,2,1,3,4,12]"
   ]
  },
  {
   "cell_type": "code",
   "execution_count": 53,
   "metadata": {
    "scrolled": true
   },
   "outputs": [],
   "source": [
    "categorys = lxml_soup.find_all('li', class_ = 'open')\n",
    "cat_links =[]\n",
    "for i in range(len(categorys)):\n",
    "    cat_links.append(categorys[i].find('a').get('href'))\n",
    "    "
   ]
  },
  {
   "cell_type": "code",
   "execution_count": 54,
   "metadata": {},
   "outputs": [],
   "source": [
    "cat_links = cat_links[1:]"
   ]
  },
  {
   "cell_type": "code",
   "execution_count": 55,
   "metadata": {},
   "outputs": [],
   "source": [
    "new_links=[\"/terms/front_end-technologies\"]\n",
    "new_links.append(\"/terms/javascript\")\n",
    "new_links.append(\"/terms/php\")\n",
    "new_links.append(\"/terms/ruby\")\n",
    "new_links.append(\"/terms/java\")\n",
    "new_links.append(\"/terms/c-net\")\n",
    "new_links.append(\"/terms/python\")\n",
    "new_links.append(\"/terms/c_plus_plus\")\n",
    "new_links.append(\"/terms/c\")\n",
    "new_links.append(\"/terms/scala\")\n",
    "new_links.append(\"/terms/golang\")\n",
    "new_links.append(\"/terms/functional-programming-fp\")\n",
    "new_links.append(\"/terms/other-programming_languages\")\n",
    "new_links.append(\"/terms/ios\")\n",
    "new_links.append(\"/terms/android\")\n",
    "new_links.append(\"/terms/cross_platform-hybrid\")\n",
    "new_links.append(\"/terms/databases\")\n",
    "new_pages = [6,1,2,2,5,3,2,2,1,1,1,1,1,3,2,2,4] "
   ]
  },
  {
   "cell_type": "code",
   "execution_count": 56,
   "metadata": {},
   "outputs": [],
   "source": [
    "cat_links = new_links+cat_links\n",
    "num_pages = new_pages+num_pages"
   ]
  },
  {
   "cell_type": "code",
   "execution_count": 57,
   "metadata": {},
   "outputs": [
    {
     "data": {
      "text/plain": [
       "['/terms/front_end-technologies',\n",
       " '/terms/javascript',\n",
       " '/terms/php',\n",
       " '/terms/ruby',\n",
       " '/terms/java',\n",
       " '/terms/c-net',\n",
       " '/terms/python',\n",
       " '/terms/c_plus_plus',\n",
       " '/terms/c',\n",
       " '/terms/scala',\n",
       " '/terms/golang',\n",
       " '/terms/functional-programming-fp',\n",
       " '/terms/other-programming_languages',\n",
       " '/terms/ios',\n",
       " '/terms/android',\n",
       " '/terms/cross_platform-hybrid',\n",
       " '/terms/databases',\n",
       " '/terms/quality_assurance-qa',\n",
       " '/terms/game_development',\n",
       " '/terms/software-infrastructure-devops',\n",
       " '/terms/web_design',\n",
       " '/terms/product_management',\n",
       " '/terms/project_management',\n",
       " '/terms/leadership',\n",
       " '/terms/development_methodologies',\n",
       " '/terms/software_architecture',\n",
       " '/terms/fundamental_programming_concepts',\n",
       " '/terms/programming_paradigms',\n",
       " '/terms/data-science',\n",
       " '/terms/tools',\n",
       " '/terms/roles_in_software_development',\n",
       " '/terms/embedded',\n",
       " '/terms/cloud_computing',\n",
       " '/terms/cyber_security',\n",
       " '/terms/general_terms']"
      ]
     },
     "execution_count": 57,
     "metadata": {},
     "output_type": "execute_result"
    }
   ],
   "source": [
    "cat_links"
   ]
  },
  {
   "cell_type": "code",
   "execution_count": 10,
   "metadata": {},
   "outputs": [],
   "source": [
    "browser.get(url+cat_links[1])"
   ]
  },
  {
   "cell_type": "code",
   "execution_count": 58,
   "metadata": {
    "scrolled": true
   },
   "outputs": [
    {
     "name": "stdout",
     "output_type": "stream",
     "text": [
      "https://glossarytech.com/terms/front_end-technologies\n",
      "https://glossarytech.com/terms/front_end-technologies/page2\n",
      "https://glossarytech.com/terms/front_end-technologies/page3\n",
      "https://glossarytech.com/terms/front_end-technologies/page4\n",
      "https://glossarytech.com/terms/front_end-technologies/page5\n",
      "https://glossarytech.com/terms/front_end-technologies/page6\n",
      "https://glossarytech.com/terms/javascript\n",
      "https://glossarytech.com/terms/php\n",
      "https://glossarytech.com/terms/php/page2\n",
      "https://glossarytech.com/terms/ruby\n",
      "https://glossarytech.com/terms/ruby/page2\n",
      "https://glossarytech.com/terms/java\n",
      "https://glossarytech.com/terms/java/page2\n",
      "https://glossarytech.com/terms/java/page3\n",
      "https://glossarytech.com/terms/java/page4\n",
      "https://glossarytech.com/terms/java/page5\n",
      "https://glossarytech.com/terms/c-net\n",
      "https://glossarytech.com/terms/c-net/page2\n",
      "https://glossarytech.com/terms/c-net/page3\n",
      "https://glossarytech.com/terms/python\n",
      "https://glossarytech.com/terms/python/page2\n",
      "https://glossarytech.com/terms/c_plus_plus\n",
      "https://glossarytech.com/terms/c_plus_plus/page2\n",
      "https://glossarytech.com/terms/c\n",
      "https://glossarytech.com/terms/scala\n",
      "https://glossarytech.com/terms/golang\n",
      "https://glossarytech.com/terms/functional-programming-fp\n",
      "https://glossarytech.com/terms/other-programming_languages\n",
      "https://glossarytech.com/terms/ios\n",
      "https://glossarytech.com/terms/ios/page2\n",
      "https://glossarytech.com/terms/ios/page3\n",
      "https://glossarytech.com/terms/android\n",
      "https://glossarytech.com/terms/android/page2\n",
      "https://glossarytech.com/terms/cross_platform-hybrid\n",
      "https://glossarytech.com/terms/cross_platform-hybrid/page2\n",
      "https://glossarytech.com/terms/databases\n",
      "https://glossarytech.com/terms/databases/page2\n",
      "https://glossarytech.com/terms/databases/page3\n",
      "https://glossarytech.com/terms/databases/page4\n",
      "https://glossarytech.com/terms/quality_assurance-qa\n",
      "https://glossarytech.com/terms/quality_assurance-qa/page2\n",
      "https://glossarytech.com/terms/quality_assurance-qa/page3\n",
      "https://glossarytech.com/terms/quality_assurance-qa/page4\n",
      "https://glossarytech.com/terms/quality_assurance-qa/page5\n",
      "https://glossarytech.com/terms/game_development\n",
      "https://glossarytech.com/terms/software-infrastructure-devops\n",
      "https://glossarytech.com/terms/software-infrastructure-devops/page2\n",
      "https://glossarytech.com/terms/software-infrastructure-devops/page3\n",
      "https://glossarytech.com/terms/software-infrastructure-devops/page4\n",
      "https://glossarytech.com/terms/software-infrastructure-devops/page5\n",
      "https://glossarytech.com/terms/software-infrastructure-devops/page6\n",
      "https://glossarytech.com/terms/software-infrastructure-devops/page7\n",
      "https://glossarytech.com/terms/software-infrastructure-devops/page8\n",
      "https://glossarytech.com/terms/web_design\n",
      "https://glossarytech.com/terms/web_design/page2\n",
      "https://glossarytech.com/terms/web_design/page3\n",
      "https://glossarytech.com/terms/product_management\n",
      "https://glossarytech.com/terms/project_management\n",
      "https://glossarytech.com/terms/project_management/page2\n",
      "https://glossarytech.com/terms/leadership\n",
      "https://glossarytech.com/terms/leadership/page2\n",
      "https://glossarytech.com/terms/development_methodologies\n",
      "https://glossarytech.com/terms/software_architecture\n",
      "https://glossarytech.com/terms/software_architecture/page2\n",
      "https://glossarytech.com/terms/software_architecture/page3\n",
      "https://glossarytech.com/terms/fundamental_programming_concepts\n",
      "https://glossarytech.com/terms/programming_paradigms\n",
      "https://glossarytech.com/terms/data-science\n",
      "https://glossarytech.com/terms/data-science/page2\n",
      "https://glossarytech.com/terms/data-science/page3\n",
      "https://glossarytech.com/terms/data-science/page4\n",
      "https://glossarytech.com/terms/data-science/page5\n",
      "https://glossarytech.com/terms/tools\n",
      "https://glossarytech.com/terms/tools/page2\n",
      "https://glossarytech.com/terms/tools/page3\n",
      "https://glossarytech.com/terms/tools/page4\n",
      "https://glossarytech.com/terms/tools/page5\n",
      "https://glossarytech.com/terms/tools/page6\n",
      "https://glossarytech.com/terms/tools/page7\n",
      "https://glossarytech.com/terms/tools/page8\n",
      "https://glossarytech.com/terms/tools/page9\n",
      "https://glossarytech.com/terms/roles_in_software_development\n",
      "https://glossarytech.com/terms/roles_in_software_development/page2\n",
      "https://glossarytech.com/terms/embedded\n",
      "https://glossarytech.com/terms/cloud_computing\n",
      "https://glossarytech.com/terms/cloud_computing/page2\n",
      "https://glossarytech.com/terms/cloud_computing/page3\n",
      "https://glossarytech.com/terms/cyber_security\n",
      "https://glossarytech.com/terms/cyber_security/page2\n",
      "https://glossarytech.com/terms/cyber_security/page3\n",
      "https://glossarytech.com/terms/cyber_security/page4\n",
      "https://glossarytech.com/terms/general_terms\n",
      "https://glossarytech.com/terms/general_terms/page2\n",
      "https://glossarytech.com/terms/general_terms/page3\n",
      "https://glossarytech.com/terms/general_terms/page4\n",
      "https://glossarytech.com/terms/general_terms/page5\n",
      "https://glossarytech.com/terms/general_terms/page6\n",
      "https://glossarytech.com/terms/general_terms/page7\n",
      "https://glossarytech.com/terms/general_terms/page8\n",
      "https://glossarytech.com/terms/general_terms/page9\n",
      "https://glossarytech.com/terms/general_terms/page10\n",
      "https://glossarytech.com/terms/general_terms/page11\n",
      "https://glossarytech.com/terms/general_terms/page12\n"
     ]
    }
   ],
   "source": [
    "counter = 0 #traverses through the category-pages list\n",
    "list_of_terms = []\n",
    "for tail in cat_links:\n",
    "    url = \"\"\n",
    "    url = \"https://glossarytech.com\"+tail\n",
    "    browser.get(url)\n",
    "    print(url)\n",
    "    curr_page = 0\n",
    "    while curr_page < num_pages[counter]:\n",
    "        if curr_page != 0:\n",
    "            url += \"/page\"+str(curr_page+1)\n",
    "            browser.get(url)\n",
    "            print(url)\n",
    "        pageSource = browser.page_source\n",
    "        lxml_soup = BeautifulSoup(pageSource, 'lxml')\n",
    "        terms = lxml_soup.find_all('tr')\n",
    "        for t in range(1,len(terms)):\n",
    "            list_of_terms.append(terms[t].find('a').text.strip().lower())\n",
    "            #Preprocesses it to be a string with no leading/trailing whitespace, all lowercase\n",
    "        curr_page+=1\n",
    "        url = \"https://glossarytech.com\"+tail\n",
    "    counter+=1\n",
    "        \n",
    "\n",
    "    "
   ]
  },
  {
   "cell_type": "code",
   "execution_count": 59,
   "metadata": {},
   "outputs": [
    {
     "data": {
      "text/plain": [
       "2170"
      ]
     },
     "execution_count": 59,
     "metadata": {},
     "output_type": "execute_result"
    }
   ],
   "source": [
    "len(list_of_terms)"
   ]
  },
  {
   "cell_type": "code",
   "execution_count": 41,
   "metadata": {},
   "outputs": [
    {
     "data": {
      "text/plain": [
       "False"
      ]
     },
     "execution_count": 41,
     "metadata": {},
     "output_type": "execute_result"
    }
   ],
   "source": [
    "'python' in list_of_terms"
   ]
  },
  {
   "cell_type": "code",
   "execution_count": 60,
   "metadata": {},
   "outputs": [],
   "source": [
    "with open('keywords.txt', 'w') as filehandle:\n",
    "    filehandle.writelines(\"%s\\n\" % term for term in list_of_terms)"
   ]
  },
  {
   "cell_type": "code",
   "execution_count": 135,
   "metadata": {},
   "outputs": [
    {
     "name": "stdout",
     "output_type": "stream",
     "text": [
      "category[1] <tr class=\"heading\">\n",
      "<td colspan=\"2\"><h1>Quality Assurance (QA) </h1></td>\n",
      "</tr>\n",
      "categorys[1].find(a) None\n"
     ]
    },
    {
     "ename": "AttributeError",
     "evalue": "'NoneType' object has no attribute 'get'",
     "output_type": "error",
     "traceback": [
      "\u001b[0;31m---------------------------------------------------------------------------\u001b[0m",
      "\u001b[0;31mAttributeError\u001b[0m                            Traceback (most recent call last)",
      "\u001b[0;32m<ipython-input-135-56a54260eae2>\u001b[0m in \u001b[0;36m<module>\u001b[0;34m\u001b[0m\n\u001b[1;32m      1\u001b[0m \u001b[0mprint\u001b[0m\u001b[0;34m(\u001b[0m\u001b[0;34m'category[1]'\u001b[0m\u001b[0;34m,\u001b[0m\u001b[0mcategorys\u001b[0m\u001b[0;34m[\u001b[0m\u001b[0;36m0\u001b[0m\u001b[0;34m]\u001b[0m\u001b[0;34m)\u001b[0m\u001b[0;34m\u001b[0m\u001b[0;34m\u001b[0m\u001b[0m\n\u001b[1;32m      2\u001b[0m \u001b[0mprint\u001b[0m\u001b[0;34m(\u001b[0m\u001b[0;34m'categorys[1].find(a)'\u001b[0m\u001b[0;34m,\u001b[0m\u001b[0mcategorys\u001b[0m\u001b[0;34m[\u001b[0m\u001b[0;36m0\u001b[0m\u001b[0;34m]\u001b[0m\u001b[0;34m.\u001b[0m\u001b[0mfind\u001b[0m\u001b[0;34m(\u001b[0m\u001b[0;34m'a'\u001b[0m\u001b[0;34m)\u001b[0m\u001b[0;34m)\u001b[0m\u001b[0;34m\u001b[0m\u001b[0;34m\u001b[0m\u001b[0m\n\u001b[0;32m----> 3\u001b[0;31m \u001b[0mprint\u001b[0m\u001b[0;34m(\u001b[0m\u001b[0;34m'categprys[1].find(a).get(href)'\u001b[0m\u001b[0;34m,\u001b[0m\u001b[0mcategorys\u001b[0m\u001b[0;34m[\u001b[0m\u001b[0;36m0\u001b[0m\u001b[0;34m]\u001b[0m\u001b[0;34m.\u001b[0m\u001b[0mfind\u001b[0m\u001b[0;34m(\u001b[0m\u001b[0;34m'a'\u001b[0m\u001b[0;34m)\u001b[0m\u001b[0;34m.\u001b[0m\u001b[0mget\u001b[0m\u001b[0;34m(\u001b[0m\u001b[0;34m'href'\u001b[0m\u001b[0;34m)\u001b[0m\u001b[0;34m)\u001b[0m\u001b[0;34m\u001b[0m\u001b[0;34m\u001b[0m\u001b[0m\n\u001b[0m",
      "\u001b[0;31mAttributeError\u001b[0m: 'NoneType' object has no attribute 'get'"
     ]
    }
   ],
   "source": [
    "print('category[1]',categorys[0])\n",
    "print('categorys[1].find(a)',categorys[0].find('a'))\n",
    "print('categprys[1].find(a).get(href)',categorys[0].find('a').get('href'))"
   ]
  },
  {
   "cell_type": "code",
   "execution_count": 129,
   "metadata": {},
   "outputs": [],
   "source": [
    "browser.get(\"https://glossarytech.com/terms/quality_assurance-qa\")"
   ]
  },
  {
   "cell_type": "code",
   "execution_count": 145,
   "metadata": {},
   "outputs": [
    {
     "name": "stdout",
     "output_type": "stream",
     "text": [
      "Gherkin\n",
      "BlazeMeter \n",
      "Scenario testing \n",
      "A/B testing  \n",
      "Ab Initio \n",
      "Ad-Hoc Distribution (Mobile) \n",
      "Appium\n",
      "Arquillian\n",
      "AutoIt \n",
      "Automation Testing\n",
      "Baseline testing\n",
      "Bazel\n",
      "Behat \n",
      "Black-box testing\n",
      "BlazeMete\n",
      "Calabash \n",
      "CasperJS\n",
      "Chai\n",
      "Charles\n",
      "Codacy\n",
      "Controller\n",
      "Cross-browser testing\n",
      "Cucumber\n",
      "DbUnit\n",
      "Defect tracking \n"
     ]
    }
   ],
   "source": [
    "pageSource = browser.page_source\n",
    "lxml_soup = BeautifulSoup(pageSource, 'lxml')\n",
    "terms = lxml_soup.find_all('tr')\n",
    "for t in range(1,len(terms)):\n",
    "    print(terms[t].find('a').text)"
   ]
  },
  {
   "cell_type": "code",
   "execution_count": null,
   "metadata": {},
   "outputs": [],
   "source": [
    "counter = 0 #traverses through the category-pages list\n",
    "list_of_terms = []\n",
    "for tail in cat_links:\n",
    "    url = \"\"\n",
    "    url = \"https://glossarytech.com\"+tail\n",
    "    browser.get(url)\n",
    "    print(url)\n",
    "    curr_page = 0\n",
    "    while curr_page < num_pages[counter]:\n",
    "        if curr_page != 0:\n",
    "            url += \"/page\"+str(curr_page+1)\n",
    "            browser.get(url)\n",
    "            print(url)\n",
    "        pageSource = browser.page_source\n",
    "        lxml_soup = BeautifulSoup(pageSource, 'lxml')\n",
    "        terms = lxml_soup.find_all('tr')\n",
    "        for t in range(1,len(terms)):\n",
    "            list_of_terms.append(terms[t].find('a').text.strip().lower())\n",
    "            #Preprocesses it to be a string with no leading/trailing whitespace, all lowercase\n",
    "        curr_page+=1\n",
    "        url = \"https://glossarytech.com\"+tail\n",
    "    counter+=1"
   ]
  }
 ],
 "metadata": {
  "kernelspec": {
   "display_name": "Python 3",
   "language": "python",
   "name": "python3"
  },
  "language_info": {
   "codemirror_mode": {
    "name": "ipython",
    "version": 3
   },
   "file_extension": ".py",
   "mimetype": "text/x-python",
   "name": "python",
   "nbconvert_exporter": "python",
   "pygments_lexer": "ipython3",
   "version": "3.7.4"
  }
 },
 "nbformat": 4,
 "nbformat_minor": 4
}
