{
 "cells": [
  {
   "cell_type": "code",
   "execution_count": null,
   "metadata": {},
   "outputs": [],
   "source": [
    "#Problems Encountered\n",
    "'''\n",
    "1. Abbreviation - B.A. B.S. - after my punctuation remover, it becomes B A B S. Making it miss stuff\n",
    "2. Tokenization - Miss key words with two or more words like \"React Native\"\n",
    "3. Double spaces - not completely sure yet but I think it's from the punctuation remover, but \n",
    "the regex that removes multiple consecutive spaces can deal with that\n",
    "'''\n"
   ]
  },
  {
   "cell_type": "code",
   "execution_count": 1,
   "metadata": {},
   "outputs": [],
   "source": [
    "import re\n",
    "from nltk.tokenize import word_tokenize "
   ]
  },
  {
   "cell_type": "code",
   "execution_count": 74,
   "metadata": {},
   "outputs": [],
   "source": [
    "#Seperate Job Posts, put them all in a list, with each element a job post\n",
    "#Preprocessing like removing punctuations, lowercase everything\n",
    "def preprocessing(jobs_file):\n",
    "    jobsFile = open(jobs_file)\n",
    "    jobslines = jobsFile.readlines()\n",
    "    origPosts = []\n",
    "    jobPosts = []\n",
    "    post = \"\"\n",
    "    origPost = \"\"\n",
    "    firstOne = True\n",
    "    for l in range(len(jobslines)):\n",
    "        if jobslines[l] == \"BREAK\\n\":\n",
    "            if firstOne:\n",
    "                firstOne = False\n",
    "            else:\n",
    "                jobPosts.append(post)\n",
    "                origPosts.append(origPost)\n",
    "                post = \"\"\n",
    "                origPost = \"\"\n",
    "            continue\n",
    "        origPost += jobslines[l]\n",
    "        if l == len(jobslines)-1:\n",
    "            jobPosts.append(post)\n",
    "            origPosts.append(origPost)\n",
    "       # post += jobslines[l].replaceAll(\"[\\\\p{Punct}&&[^.]]\", \"\").lower();\n",
    "        post+= re.sub(r'[^\\w\\s]', ' ', jobslines[l].lower())\n",
    "\n",
    "    print('----')\n",
    "    for p in range(len(jobPosts)):\n",
    "        jobPosts[p]= re.sub(' +', ' ', jobPosts[p].replace('\\n',' ')) #remove unnecessary double/triple white space\n",
    "    # for p in range(len(jobPosts)):\n",
    "    #     jobPosts[p] = word_tokenize(jobPosts[p])\n",
    "    return origPosts, jobPosts"
   ]
  },
  {
   "cell_type": "code",
   "execution_count": 15,
   "metadata": {
    "collapsed": true
   },
   "outputs": [
    {
     "name": "stdout",
     "output_type": "stream",
     "text": [
      "Kuaishou is the leading short video and photo sharing App in China where our mission is to provide users with a personal space to share moments from their lives. With over 700 million audience and more than 200 million active daily users, Kwai provides an almost limitless look at everyday slices of life that unfolds in real time. Viewers can explore a rich array of glimpses into fitness, homes, cooking, health and wellness, fashion, and other interests.\n",
      "\n",
      "\n",
      "Kuaishou is a user-oriented, technology-driven company which uses cutting edge machine learning techniques for instantly curated presentations and develops new AI algorithms and technologies to solve challenging industrial problems.\n",
      "\n",
      "\n",
      "You may visit https://usrdc.kuaishou.com/ to learn more about us.\n",
      "\n",
      "\n",
      "About the Position:\n",
      "\n",
      "We are an applied research and engineering team responsible for developing advanced AI technologies and hardware platforms for efficient inferences on cloud servers or edge devices across Kuaishou products. We are looking for Deep Learning Software Interns at our Palo Alto Office to develop exciting technologies for Kuaishou’s next generation products. \n",
      "\n",
      "\n",
      "JOB RESPONSIBILITIES:\n",
      "\n",
      "• Develop and prototype new deep learning models and training algorithms for speech recognition, computer vision, and natural language processing\n",
      "\n",
      "• Train deep learning models on computing clusters to perform audio and visual recognition tasks\n",
      "\n",
      "• Analyze and optimize deep neural algorithms, and associated pre-/post-processing code, including not limit to model compresion, quantization, and acceleration\n",
      "\n",
      "• Develop fixed-point implementation of common operators in Tensorflow or PyTorch \n",
      "\n",
      "MINIMUM QUALIFICATIONS\n",
      "\n",
      "• Master or PhD in Computer Engineering, Computer Science and Electrical Engineering or other related fields \n",
      "\n",
      "• Familiar with basic deep learning concepts, including convolutional neural network and recurrent neural network \n",
      "\n",
      "• Proficiency in at least one major machine learning framework, such as Tensorflow and PyTorch\n",
      "\n",
      "• Hands-on programming and debugging experience in C/C++ or Python\n",
      "\n",
      "• Creativity and curiosity for solving highly complex problems\n",
      "\n",
      "• Excellent communication and collaboration skills\n",
      "\n",
      "\n",
      "PREFERRED QUALIFICATIONS\n",
      "\n",
      "• Solid mathematical background, especially in optimization theory, random process, and linear algebra\n",
      "\n",
      "• Knowledge in neural network optimization techniques, such as quantization, compression, pruning and layer fusion\n",
      "\n",
      "• Basic understanding of computer architecture and computing platforms, such as CPU, GPU, FPGA or DSP\n",
      "\n",
      "• Familiar with neural network, image processing and video compression\n",
      "\n",
      "Applicant rank\n",
      "Top 50% of 159 applicants\n",
      "Contact the job poster\n",
      "Job poster profile\n",
      "Meiqi Wu\n",
      "快手 - HR（招聘）\n",
      "\n",
      "Send InMail\n",
      "Job Details\n",
      "Seniority Level\n",
      "Internship\n",
      "\n",
      "Industry\n",
      "Internet\n",
      "Employment Type\n",
      "Internship\n",
      "\n",
      "Job Functions\n",
      "Science  Engineering\n",
      "\n"
     ]
    }
   ],
   "source": []
  },
  {
   "cell_type": "code",
   "execution_count": 107,
   "metadata": {},
   "outputs": [
    {
     "ename": "AttributeError",
     "evalue": "'list' object has no attribute 'find'",
     "output_type": "error",
     "traceback": [
      "\u001b[0;31m---------------------------------------------------------------------------\u001b[0m",
      "\u001b[0;31mAttributeError\u001b[0m                            Traceback (most recent call last)",
      "\u001b[0;32m<ipython-input-107-415abd5ede9a>\u001b[0m in \u001b[0;36m<module>\u001b[0;34m\u001b[0m\n\u001b[0;32m----> 1\u001b[0;31m \u001b[0mtemp\u001b[0m \u001b[0;34m=\u001b[0m \u001b[0mjobPosts\u001b[0m\u001b[0;34m[\u001b[0m\u001b[0;36m0\u001b[0m\u001b[0;34m]\u001b[0m\u001b[0;34m.\u001b[0m\u001b[0mfind\u001b[0m\u001b[0;34m(\u001b[0m\u001b[0;34m'master'\u001b[0m\u001b[0;34m)\u001b[0m\u001b[0;34m\u001b[0m\u001b[0;34m\u001b[0m\u001b[0m\n\u001b[0m\u001b[1;32m      2\u001b[0m \u001b[0mprint\u001b[0m\u001b[0;34m(\u001b[0m\u001b[0mtemp\u001b[0m\u001b[0;34m)\u001b[0m\u001b[0;34m\u001b[0m\u001b[0;34m\u001b[0m\u001b[0m\n\u001b[1;32m      3\u001b[0m \u001b[0mjobPosts\u001b[0m\u001b[0;34m[\u001b[0m\u001b[0;36m0\u001b[0m\u001b[0;34m]\u001b[0m\u001b[0;34m[\u001b[0m\u001b[0mtemp\u001b[0m\u001b[0;34m-\u001b[0m\u001b[0;36m15\u001b[0m\u001b[0;34m:\u001b[0m\u001b[0mtemp\u001b[0m\u001b[0;34m+\u001b[0m\u001b[0;36m15\u001b[0m\u001b[0;34m]\u001b[0m\u001b[0;34m\u001b[0m\u001b[0;34m\u001b[0m\u001b[0m\n",
      "\u001b[0;31mAttributeError\u001b[0m: 'list' object has no attribute 'find'"
     ]
    }
   ],
   "source": [
    "temp = jobPosts[0].find('master')\n",
    "#print(temp)\n",
    "#jobPosts[0][temp-15:temp+15]"
   ]
  },
  {
   "cell_type": "code",
   "execution_count": 26,
   "metadata": {},
   "outputs": [],
   "source": [
    "def read_termsFile(termsFile):\n",
    "    termsFile = open(termsFile,\"r\")\n",
    "    terms = termsFile.readlines()\n",
    "    print('number of tech terms',len(terms))\n",
    "    keywords = [term.rstrip('\\n').lower() for term in terms]\n",
    "    return keywords"
   ]
  },
  {
   "cell_type": "code",
   "execution_count": 109,
   "metadata": {},
   "outputs": [
    {
     "data": {
      "text/plain": [
       "'kafka\\n'"
      ]
     },
     "execution_count": 109,
     "metadata": {},
     "output_type": "execute_result"
    }
   ],
   "source": [
    "terms[2172]"
   ]
  },
  {
   "cell_type": "code",
   "execution_count": 17,
   "metadata": {},
   "outputs": [
    {
     "name": "stdout",
     "output_type": "stream",
     "text": [
      "2170\n",
      "max spaces in a word in the termsFile 5\n",
      "the word: load, stress and performance testing tools\n",
      "\n"
     ]
    }
   ],
   "source": [
    "max_spaces = 0\n",
    "max_term = \"\"\n",
    "for term in terms:\n",
    "    count = 0\n",
    "    for tok in term:\n",
    "        if tok == ' ':\n",
    "            count+=1\n",
    "    if count > max_spaces:\n",
    "        max_spaces = count\n",
    "        max_term = term\n",
    "print('max spaces in a word in the termsFile',max_spaces)\n",
    "print('the word:', max_term)"
   ]
  },
  {
   "cell_type": "code",
   "execution_count": 79,
   "metadata": {},
   "outputs": [],
   "source": [
    "def data_extraction(origPosts, jobPosts,keywords):    \n",
    "\n",
    "    \n",
    "    \n",
    "    deg_lvl = {\n",
    "               'a':['associate\\'s','associate degree'],\n",
    "               'b':['ba','bs','bachelor','bachelor\\'s','b s'],\n",
    "               'm':['master','ms','master\\'s','m s'],\n",
    "               'p':['ph d','phd']\n",
    "\n",
    "    }\n",
    "    deg_title = {'cs':['computer science','cs','c s'],\n",
    "                 'ce':['computer engineering','ce','c e'],\n",
    "                  'ee':['electrical engineering','ee','e e']\n",
    "\n",
    "    }\n",
    "\n",
    "    for i in range(len(jobPosts)):   \n",
    "        #TAG CHECKING ------\n",
    "        #SENIORITY\n",
    "        o_P = origPosts[i].split('\\n')\n",
    "        ''' 'Seniority Level',\n",
    "             'Internship',\n",
    "             '',\n",
    "             'Industry',\n",
    "             'Internet',\n",
    "        '''\n",
    "        seniority_levels = ['Internship','Entry level','Associate','Mid-Senior level','Director','Executive','Not Applicable']\n",
    "        s_tag = \"\"\n",
    "        s_boo =False\n",
    "        #Some weird inconsistency with linkedin seniority level upperlower caseness, edge case\n",
    "        if \"Seniority Level\" in o_P:\n",
    "            s_tag = \"Seniority Level\"\n",
    "            s_boo = True\n",
    "        elif \"Seniority level\" in o_P:\n",
    "            s_tag = \"Seniority level\"\n",
    "            s_boo = True\n",
    "        if s_boo:\n",
    "            seniorityIndex = o_P.index(s_tag) +1 \n",
    "            if o_P[seniorityIndex] in seniority_levels:\n",
    "                print('SENIORITY:', seniority_levels[seniority_levels.index(o_P[seniorityIndex])])\n",
    "        #INDUSTRY\n",
    "        \n",
    "        \n",
    "        #Keyword Extraction -----\n",
    "        #TECH SKILLS\n",
    "        skills = []\n",
    "        deg_titles = []\n",
    "        deg_lvls = []\n",
    "        for key in keywords:\n",
    "            key= \" \"+key+\" \"\n",
    "            if key in jobPosts[i]:\n",
    "                skills.append(key.strip())\n",
    "        print('SKILLS',set(skills))\n",
    "        #DEGREE LEVEL\n",
    "        for d_key, d_value in deg_lvl.items():\n",
    "            for variation in d_value:\n",
    "                variation = \" \"+variation+\" \"\n",
    "                if variation in jobPosts[i]:\n",
    "                    deg_lvls.append(d_key)\n",
    "        #DEGREE TITLE\n",
    "        for d_key, d_value in deg_title.items():\n",
    "            for title in d_value:\n",
    "                title = \" \"+title+\" \"\n",
    "                if title in jobPosts[i]:\n",
    "                    deg_titles.append(d_key)\n",
    "        print('EDUCATION LEVEL',set(deg_lvls))\n",
    "        print('DEGREE TITLE', set(deg_titles))\n",
    "        print()\n",
    "    \n"
   ]
  },
  {
   "cell_type": "code",
   "execution_count": 70,
   "metadata": {},
   "outputs": [],
   "source": [
    "template = {'4385545':{'skills':['javascript,python, angular'], \n",
    "                       'industry':['healthcare','telecommunication'],\n",
    "                       'education':['bachelor','master'],\n",
    "                       'seniority':'Senior',\n",
    "                       'Part of Stack': ['front end','backend'],\n",
    "                       'Experience':['2-6 YOE'],\n",
    "                       'preferred qualification':['React','PhD'],\n",
    "                      },\n",
    "            '5345465':{\n",
    "                \n",
    "            }\n",
    "           }"
   ]
  },
  {
   "cell_type": "code",
   "execution_count": 80,
   "metadata": {
    "scrolled": true
   },
   "outputs": [
    {
     "name": "stdout",
     "output_type": "stream",
     "text": [
      "----\n",
      "number of tech terms 2174\n",
      "SENIORITY: Not Applicable\n",
      "SKILLS {'information technology', 'less', 'javascript', 'testing', 'product', 'database', 'mvc', 'zoom', 'software development', 'java', 'communication', 'linux', 'framework', 'web application'}\n",
      "EDUCATION LEVEL {'b'}\n",
      "DEGREE TITLE {'cs'}\n",
      "\n",
      "SENIORITY: Not Applicable\n",
      "SKILLS {'information technology', 'less', 'javascript', 'testing', 'product', 'database', 'mvc', 'zoom', 'software development', 'java', 'communication', 'linux', 'framework', 'web application'}\n",
      "EDUCATION LEVEL {'b'}\n",
      "DEGREE TITLE {'cs'}\n",
      "\n",
      "SKILLS {'growth', 'performance testing', 'spark', 'customer', 'machine learning', 'hardware', 'git', 'computer science', 'python', 'cpu', 'airflow', 'security', 'kubernetes', 'jenkins', 'devops', 'nosql', 'testing', 'enterprise software', 'bash', 'linux', 'finance', 'sql', 'microservices', 'customer experience', 'api', 'next', 'communication'}\n",
      "EDUCATION LEVEL {'b', 'p'}\n",
      "DEGREE TITLE {'cs'}\n",
      "\n",
      "SKILLS {'c', 'go', 'spark', 'data science', 'python', 'product', 'kafka', 'cassandra', 'java', 'machine learning', 'tensorflow', 'user', 'pytorch', 'hive', 'deployment', 'deep learning', 'training'}\n",
      "EDUCATION LEVEL {'p'}\n",
      "DEGREE TITLE set()\n",
      "\n",
      "SENIORITY: Internship\n",
      "SKILLS {'https', 'image processing', 'machine learning', 'hardware', 'computer science', 'computer architecture', 'python', 'servers', 'cpu', 'prototype', 'fpga', 'tensorflow', 'pytorch', 'computer vision', 'solid', 'debugging', 'optimization', 'user', 'framework', 'convolutional neural network', 'next', 'communication', 'deep learning', 'training', 'c'}\n",
      "EDUCATION LEVEL {'m', 'p'}\n",
      "DEGREE TITLE {'cs', 'ee', 'ce'}\n",
      "\n",
      "SENIORITY: Not Applicable\n",
      "SKILLS {'mapreduce', 'javascript', 'maven', 'svn', 'gradle', 'java', 'nosql databases', 'customer', 'jira', 'jvm', 'git', 'availability', 'xml', 'computer science', 'scrum', 'product', 'scalability', 'css', 'cocoa', 'grpc', 'mockito', 'json', 'unit testing', 'security', 'kubernetes', 'jenkins', 'agile', 'nosql', 'data mining', 'aws', 'testing', 'junit', 'redis', 'kafka', 'sql', 'analysis', 'infrastructure', 'docker', 'information technology', 'less', 'api', 'software development', 'html', 'kotlin', 'cassandra', 'communication', 'design patterns', 'it management', 'rest', 'training', 'kanban', 'c'}\n",
      "EDUCATION LEVEL {'m', 'b', 'p'}\n",
      "DEGREE TITLE {'cs', 'ce'}\n",
      "\n"
     ]
    }
   ],
   "source": [
    "orig_posts, jobPosts = preprocessing(\"sample_jobposts.txt\")\n",
    "keywords = read_termsFile(\"final_keywords.txt\")\n",
    "data_extraction(orig_posts, jobPosts, keywords)"
   ]
  },
  {
   "cell_type": "code",
   "execution_count": 30,
   "metadata": {
    "collapsed": true
   },
   "outputs": [
    {
     "data": {
      "text/plain": [
       "['Kuaishou is the leading short video and photo sharing App in China where our mission is to provide users with a personal space to share moments from their lives. With over 700 million audience and more than 200 million active daily users, Kwai provides an almost limitless look at everyday slices of life that unfolds in real time. Viewers can explore a rich array of glimpses into fitness, homes, cooking, health and wellness, fashion, and other interests.',\n",
       " '',\n",
       " '',\n",
       " 'Kuaishou is a user-oriented, technology-driven company which uses cutting edge machine learning techniques for instantly curated presentations and develops new AI algorithms and technologies to solve challenging industrial problems.',\n",
       " '',\n",
       " '',\n",
       " 'You may visit https://usrdc.kuaishou.com/ to learn more about us.',\n",
       " '',\n",
       " '',\n",
       " 'About the Position:',\n",
       " '',\n",
       " 'We are an applied research and engineering team responsible for developing advanced AI technologies and hardware platforms for efficient inferences on cloud servers or edge devices across Kuaishou products. We are looking for Deep Learning Software Interns at our Palo Alto Office to develop exciting technologies for Kuaishou’s next generation products. ',\n",
       " '',\n",
       " '',\n",
       " 'JOB RESPONSIBILITIES:',\n",
       " '',\n",
       " '• Develop and prototype new deep learning models and training algorithms for speech recognition, computer vision, and natural language processing',\n",
       " '',\n",
       " '• Train deep learning models on computing clusters to perform audio and visual recognition tasks',\n",
       " '',\n",
       " '• Analyze and optimize deep neural algorithms, and associated pre-/post-processing code, including not limit to model compresion, quantization, and acceleration',\n",
       " '',\n",
       " '• Develop fixed-point implementation of common operators in Tensorflow or PyTorch ',\n",
       " '',\n",
       " 'MINIMUM QUALIFICATIONS',\n",
       " '',\n",
       " '• Master or PhD in Computer Engineering, Computer Science and Electrical Engineering or other related fields ',\n",
       " '',\n",
       " '• Familiar with basic deep learning concepts, including convolutional neural network and recurrent neural network ',\n",
       " '',\n",
       " '• Proficiency in at least one major machine learning framework, such as Tensorflow and PyTorch',\n",
       " '',\n",
       " '• Hands-on programming and debugging experience in C/C++ or Python',\n",
       " '',\n",
       " '• Creativity and curiosity for solving highly complex problems',\n",
       " '',\n",
       " '• Excellent communication and collaboration skills',\n",
       " '',\n",
       " '',\n",
       " 'PREFERRED QUALIFICATIONS',\n",
       " '',\n",
       " '• Solid mathematical background, especially in optimization theory, random process, and linear algebra',\n",
       " '',\n",
       " '• Knowledge in neural network optimization techniques, such as quantization, compression, pruning and layer fusion',\n",
       " '',\n",
       " '• Basic understanding of computer architecture and computing platforms, such as CPU, GPU, FPGA or DSP',\n",
       " '',\n",
       " '• Familiar with neural network, image processing and video compression',\n",
       " '',\n",
       " 'Applicant rank',\n",
       " 'Top 50% of 159 applicants',\n",
       " 'Contact the job poster',\n",
       " 'Job poster profile',\n",
       " 'Meiqi Wu',\n",
       " '快手 - HR（招聘）',\n",
       " '',\n",
       " 'Send InMail',\n",
       " 'Job Details',\n",
       " 'Seniority Level',\n",
       " 'Internship',\n",
       " '',\n",
       " 'Industry',\n",
       " 'Internet',\n",
       " 'Employment Type',\n",
       " 'Internship',\n",
       " '',\n",
       " 'Job Functions',\n",
       " 'Science  Engineering',\n",
       " '']"
      ]
     },
     "execution_count": 30,
     "metadata": {},
     "output_type": "execute_result"
    }
   ],
   "source": [
    "orig_posts[4].split('\\n')"
   ]
  },
  {
   "cell_type": "code",
   "execution_count": null,
   "metadata": {},
   "outputs": [],
   "source": []
  }
 ],
 "metadata": {
  "kernelspec": {
   "display_name": "Python 3",
   "language": "python",
   "name": "python3"
  },
  "language_info": {
   "codemirror_mode": {
    "name": "ipython",
    "version": 3
   },
   "file_extension": ".py",
   "mimetype": "text/x-python",
   "name": "python",
   "nbconvert_exporter": "python",
   "pygments_lexer": "ipython3",
   "version": "3.7.4"
  }
 },
 "nbformat": 4,
 "nbformat_minor": 4
}
