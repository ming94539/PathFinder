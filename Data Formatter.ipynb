{
 "cells": [
  {
   "cell_type": "code",
   "execution_count": 1,
   "metadata": {},
   "outputs": [],
   "source": [
    "import re\n",
    "from nltk.tokenize import word_tokenize "
   ]
  },
  {
   "cell_type": "code",
   "execution_count": 65,
   "metadata": {},
   "outputs": [
    {
     "name": "stdout",
     "output_type": "stream",
     "text": [
      "----\n",
      "zoomies help the world connect and deliver happiness while doing it we set out to build the best video conferencing product for the enterprise and today help people communicate better with products like zoom phone zoom rooms zoom video webinars zoom apps and onzoom we re problem solvers and self starters working at a fast pace to design solutions with our customers and users in mind here you ll work across teams to dig deep into impactful projects that are changing the way people communicate and enjoy opportunities to advance your career in a diverse inclusive environment zoom is an award winning workplace we have been recognized by comparably as 1 ceo company happiness benefits compensation diversity and more not to mention we ve been awarded by glassdoor as the 2nd best us workplace best large company us ceo in 2018 wealthfront and business insider our culture focuses on delivering happiness our commitment to transparency and the tangible benefits we provide our employees and our customers java full stack developer responsibilities design development and testing of features functions delivered via applications and services working with operations teams to ensure your applications and services are highly available and reliable hands on software development for product that will perform at scale be supportable and be extensible requirements bs degree or equivalent in a directly related discipline cs eng etc have prior internship or related work experience 3 years work experience have successfully built deployed and supported an enterprise scale web application in the cloud ideally have full stack experience with expertise in at least one layer hands on software development experience in java hands on software development experience in javascript with a modern mvc framework cognizant of modern database storage technologies understands complex workflows and develop and validate innovative solutions to solve difficult problems experience with multi threaded programming experience developing application on linux preferred qualifications experience solving internet scale problems experience working on cloud on demand software excellent verbal and written communication skill cloud experience explore zoom hear from our leadership team browse awards and employee reviews on comparably visit our blog zoom with us find us on social at the links below and on instagram show less seniority level not applicable employment type full time job function engineeringinformation technology industries information technology and servicescomputer softwareinternet zoomies help the world connect and deliver happiness while doing it we set out to build the best video conferencing product for the enterprise and today help people communicate better with products like zoom phone zoom rooms zoom video webinars zoom apps and onzoom we re problem solvers and self starters working at a fast pace to design solutions with our customers and users in mind here you ll work across teams to dig deep into impactful projects that are changing the way people communicate and enjoy opportunities to advance your career in a diverse inclusive environment zoom is an award winning workplace we have been recognized by comparably as 1 ceo company happiness benefits compensation diversity and more not to mention we ve been awarded by glassdoor as the 2nd best us workplace best large company us ceo in 2018 wealthfront and business insider our culture focuses on delivering happiness our commitment to transparency and the tangible benefits we provide our employees and our customers \n"
     ]
    }
   ],
   "source": [
    "#Seperate Job Posts, put them all in a list, with each element a job post\n",
    "jobsFile = open(\"sample_jobposts.txt\")\n",
    "jobslines = jobsFile.readlines()\n",
    "origPosts = []\n",
    "jobPosts = []\n",
    "post = \"\"\n",
    "origPost = \"\"\n",
    "firstOne = True\n",
    "for l in range(len(jobslines)):\n",
    "    if jobslines[l] == \"BREAK\\n\" or l == len(jobslines)-1 :\n",
    "        if firstOne:\n",
    "            firstOne = False\n",
    "        else:\n",
    "            jobPosts.append(post)\n",
    "            origPosts.append(origPost)\n",
    "            post = \"\"\n",
    "            origPost = \"\"\n",
    "        continue\n",
    "    origPost += jobslines[l]\n",
    "    post+= re.sub(r'[^\\w\\s]', ' ', jobslines[l].lower())\n",
    "    \n",
    "print('----')\n",
    "for p in range(len(jobPosts)):\n",
    "    jobPosts[p]= re.sub(' +', ' ', jobPosts[0].replace('\\n',' ')) #remove unnecessary double/triple white space\n",
    "print(jobPosts[2])\n",
    "# for pos in range(len(jobPosts)):\n",
    "#     jobPosts[pos]= jobPosts[pos].strip(\"\\n\") \n",
    "#     print(jobPosts[pos])\n",
    "#strip after getting the posts, since break\\n relies on \\n\n",
    "#Can't use tokenization because some keywords contain multiple words, can't match individually\n",
    "#lowercase for consistency\n",
    "#strip \"\\n\" since some words are connected to it like \"\\njava\", which won't let us detect java\n",
    "# for p in range(len(jobPosts)):\n",
    "#     jobPosts[p] = word_tokenize(jobPosts[p])"
   ]
  },
  {
   "cell_type": "code",
   "execution_count": 107,
   "metadata": {},
   "outputs": [
    {
     "ename": "AttributeError",
     "evalue": "'list' object has no attribute 'find'",
     "output_type": "error",
     "traceback": [
      "\u001b[0;31m---------------------------------------------------------------------------\u001b[0m",
      "\u001b[0;31mAttributeError\u001b[0m                            Traceback (most recent call last)",
      "\u001b[0;32m<ipython-input-107-415abd5ede9a>\u001b[0m in \u001b[0;36m<module>\u001b[0;34m\u001b[0m\n\u001b[0;32m----> 1\u001b[0;31m \u001b[0mtemp\u001b[0m \u001b[0;34m=\u001b[0m \u001b[0mjobPosts\u001b[0m\u001b[0;34m[\u001b[0m\u001b[0;36m0\u001b[0m\u001b[0;34m]\u001b[0m\u001b[0;34m.\u001b[0m\u001b[0mfind\u001b[0m\u001b[0;34m(\u001b[0m\u001b[0;34m'master'\u001b[0m\u001b[0;34m)\u001b[0m\u001b[0;34m\u001b[0m\u001b[0;34m\u001b[0m\u001b[0m\n\u001b[0m\u001b[1;32m      2\u001b[0m \u001b[0mprint\u001b[0m\u001b[0;34m(\u001b[0m\u001b[0mtemp\u001b[0m\u001b[0;34m)\u001b[0m\u001b[0;34m\u001b[0m\u001b[0;34m\u001b[0m\u001b[0m\n\u001b[1;32m      3\u001b[0m \u001b[0mjobPosts\u001b[0m\u001b[0;34m[\u001b[0m\u001b[0;36m0\u001b[0m\u001b[0;34m]\u001b[0m\u001b[0;34m[\u001b[0m\u001b[0mtemp\u001b[0m\u001b[0;34m-\u001b[0m\u001b[0;36m15\u001b[0m\u001b[0;34m:\u001b[0m\u001b[0mtemp\u001b[0m\u001b[0;34m+\u001b[0m\u001b[0;36m15\u001b[0m\u001b[0;34m]\u001b[0m\u001b[0;34m\u001b[0m\u001b[0;34m\u001b[0m\u001b[0m\n",
      "\u001b[0;31mAttributeError\u001b[0m: 'list' object has no attribute 'find'"
     ]
    }
   ],
   "source": [
    "temp = jobPosts[0].find('master')\n",
    "#print(temp)\n",
    "#jobPosts[0][temp-15:temp+15]"
   ]
  },
  {
   "cell_type": "code",
   "execution_count": 16,
   "metadata": {},
   "outputs": [],
   "source": [
    "termsFile = open(\"keywords.txt\",\"r\")\n",
    "terms = termsFile.readlines()"
   ]
  },
  {
   "cell_type": "code",
   "execution_count": 17,
   "metadata": {},
   "outputs": [
    {
     "name": "stdout",
     "output_type": "stream",
     "text": [
      "2170\n",
      "max spaces in a word in the termsFile 5\n",
      "the word: load, stress and performance testing tools\n",
      "\n"
     ]
    }
   ],
   "source": [
    "print(len(terms))\n",
    "max_spaces = 0\n",
    "max_term = \"\"\n",
    "for term in terms:\n",
    "    count = 0\n",
    "    for tok in term:\n",
    "        if tok == ' ':\n",
    "            count+=1\n",
    "    if count > max_spaces:\n",
    "        max_spaces = count\n",
    "        max_term = term\n",
    "print('max spaces in a word in the termsFile',max_spaces)\n",
    "print('the word:', max_term)"
   ]
  },
  {
   "cell_type": "code",
   "execution_count": 18,
   "metadata": {},
   "outputs": [],
   "source": [
    "keywords = [term.rstrip('\\n') for term in terms]\n",
    "deg_lvl = ['bs','bachelor','bachelor\\'s','master','ms','master\\'s','phd']\n",
    "deg_title = {'cs':['computer science','cs'],\n",
    "             'ce':['computer engineering','ce'],\n",
    "              'ee':['electrical engineering','ee']\n",
    "    \n",
    "}"
   ]
  },
  {
   "cell_type": "code",
   "execution_count": 72,
   "metadata": {},
   "outputs": [
    {
     "name": "stdout",
     "output_type": "stream",
     "text": [
      "SKILLS ['javascript', 'less', 'java', 'database', 'testing', 'linux', 'product', 'communication', 'mvc', 'web application', 'zoom', 'software development', 'framework', 'information technology']\n",
      "Education level ['bs']\n",
      "Degree title ['cs']\n",
      "SKILLS ['javascript', 'less', 'java', 'database', 'testing', 'linux', 'product', 'communication', 'mvc', 'web application', 'zoom', 'software development', 'framework', 'information technology']\n",
      "Education level ['bs']\n",
      "Degree title ['cs']\n",
      "SKILLS ['javascript', 'less', 'java', 'database', 'testing', 'linux', 'product', 'communication', 'mvc', 'web application', 'zoom', 'software development', 'framework', 'information technology']\n",
      "Education level ['bs']\n",
      "Degree title ['cs']\n"
     ]
    }
   ],
   "source": [
    "for i in range(len(jobPosts)):\n",
    "    skills = []\n",
    "    deg_titles = []\n",
    "    for key in keywords:\n",
    "        key= \" \"+key+\" \"\n",
    "        if key in jobPosts[i]:\n",
    "            skills.append(key.strip())\n",
    "    print('SKILLS',skills)\n",
    "    r_edu =[]\n",
    "    for e in deg_lvl:\n",
    "        e = \" \" + e + \" \"\n",
    "        if e in jobPosts[i]:\n",
    "            r_edu.append(e.strip())\n",
    "    for d_key, d_value in deg_title.items():\n",
    "        for title in d_value:\n",
    "            title = \" \"+title+\" \"\n",
    "            if title in jobPosts[i]:\n",
    "                deg_titles.append(d_key)\n",
    "    print('Education level',r_edu)\n",
    "    print('Degree title', deg_titles)\n"
   ]
  },
  {
   "cell_type": "code",
   "execution_count": 87,
   "metadata": {},
   "outputs": [],
   "source": [
    "template = {'4385545':{'skills':['javascript,python, angular'], \n",
    "                       'industry':['healthcare','telecommunication'],\n",
    "                       'education':['bachelor','master'],\n",
    "                       'seniority':'Senior',\n",
    "                       'Part of Stack': ['front end','backend'],\n",
    "                       'Experience':['2-6 YOE'],\n",
    "                       'preferred qualification':['React','PhD'],\n",
    "                       'Thing they developing':['web app']\n",
    "                      },\n",
    "            '5345465':{\n",
    "                \n",
    "            }\n",
    "           }"
   ]
  },
  {
   "cell_type": "code",
   "execution_count": null,
   "metadata": {},
   "outputs": [],
   "source": []
  }
 ],
 "metadata": {
  "kernelspec": {
   "display_name": "Python 3",
   "language": "python",
   "name": "python3"
  },
  "language_info": {
   "codemirror_mode": {
    "name": "ipython",
    "version": 3
   },
   "file_extension": ".py",
   "mimetype": "text/x-python",
   "name": "python",
   "nbconvert_exporter": "python",
   "pygments_lexer": "ipython3",
   "version": "3.7.4"
  }
 },
 "nbformat": 4,
 "nbformat_minor": 4
}
