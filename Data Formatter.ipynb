{
 "cells": [
  {
   "cell_type": "code",
   "execution_count": 98,
   "metadata": {},
   "outputs": [],
   "source": [
    "import re\n",
    "from nltk.tokenize import word_tokenize "
   ]
  },
  {
   "cell_type": "code",
   "execution_count": 102,
   "metadata": {},
   "outputs": [],
   "source": [
    "#Seperate Job Posts, put them all in a list, with each element a job post\n",
    "jobsFile = open(\"sample_jobposts.txt\")\n",
    "jobslines = jobsFile.readlines()\n",
    "jobPosts = []\n",
    "post = \"\"\n",
    "firstOne = True\n",
    "for l in range(len(jobslines)):\n",
    "    if jobslines[l] == \"BREAK\\n\" or l == len(jobslines)-1 :\n",
    "        if firstOne:\n",
    "            firstOne = False\n",
    "        else:\n",
    "            jobPosts.append(post)\n",
    "            post = \"\"\n",
    "        continue\n",
    "    post+= re.sub(r'[^\\w\\s]', ' ', jobslines[l].lower())   \n",
    "for p in range(len(jobPosts)):\n",
    "    jobPosts[p] = word_tokenize(jobPosts[p])"
   ]
  },
  {
   "cell_type": "code",
   "execution_count": 107,
   "metadata": {},
   "outputs": [
    {
     "ename": "AttributeError",
     "evalue": "'list' object has no attribute 'find'",
     "output_type": "error",
     "traceback": [
      "\u001b[0;31m---------------------------------------------------------------------------\u001b[0m",
      "\u001b[0;31mAttributeError\u001b[0m                            Traceback (most recent call last)",
      "\u001b[0;32m<ipython-input-107-415abd5ede9a>\u001b[0m in \u001b[0;36m<module>\u001b[0;34m\u001b[0m\n\u001b[0;32m----> 1\u001b[0;31m \u001b[0mtemp\u001b[0m \u001b[0;34m=\u001b[0m \u001b[0mjobPosts\u001b[0m\u001b[0;34m[\u001b[0m\u001b[0;36m0\u001b[0m\u001b[0;34m]\u001b[0m\u001b[0;34m.\u001b[0m\u001b[0mfind\u001b[0m\u001b[0;34m(\u001b[0m\u001b[0;34m'master'\u001b[0m\u001b[0;34m)\u001b[0m\u001b[0;34m\u001b[0m\u001b[0;34m\u001b[0m\u001b[0m\n\u001b[0m\u001b[1;32m      2\u001b[0m \u001b[0mprint\u001b[0m\u001b[0;34m(\u001b[0m\u001b[0mtemp\u001b[0m\u001b[0;34m)\u001b[0m\u001b[0;34m\u001b[0m\u001b[0;34m\u001b[0m\u001b[0m\n\u001b[1;32m      3\u001b[0m \u001b[0mjobPosts\u001b[0m\u001b[0;34m[\u001b[0m\u001b[0;36m0\u001b[0m\u001b[0;34m]\u001b[0m\u001b[0;34m[\u001b[0m\u001b[0mtemp\u001b[0m\u001b[0;34m-\u001b[0m\u001b[0;36m15\u001b[0m\u001b[0;34m:\u001b[0m\u001b[0mtemp\u001b[0m\u001b[0;34m+\u001b[0m\u001b[0;36m15\u001b[0m\u001b[0;34m]\u001b[0m\u001b[0;34m\u001b[0m\u001b[0;34m\u001b[0m\u001b[0m\n",
      "\u001b[0;31mAttributeError\u001b[0m: 'list' object has no attribute 'find'"
     ]
    }
   ],
   "source": [
    "temp = jobPosts[0].find('master')\n",
    "#print(temp)\n",
    "#jobPosts[0][temp-15:temp+15]"
   ]
  },
  {
   "cell_type": "code",
   "execution_count": 66,
   "metadata": {},
   "outputs": [],
   "source": [
    "termsFile = open(\"keywords.txt\",\"r\")"
   ]
  },
  {
   "cell_type": "code",
   "execution_count": 108,
   "metadata": {},
   "outputs": [
    {
     "ename": "TypeError",
     "evalue": "object of type '_io.TextIOWrapper' has no len()",
     "output_type": "error",
     "traceback": [
      "\u001b[0;31m---------------------------------------------------------------------------\u001b[0m",
      "\u001b[0;31mTypeError\u001b[0m                                 Traceback (most recent call last)",
      "\u001b[0;32m<ipython-input-108-e2050498f9d7>\u001b[0m in \u001b[0;36m<module>\u001b[0;34m\u001b[0m\n\u001b[0;32m----> 1\u001b[0;31m \u001b[0mlen\u001b[0m\u001b[0;34m(\u001b[0m\u001b[0mtermsFile\u001b[0m\u001b[0;34m)\u001b[0m\u001b[0;34m\u001b[0m\u001b[0;34m\u001b[0m\u001b[0m\n\u001b[0m",
      "\u001b[0;31mTypeError\u001b[0m: object of type '_io.TextIOWrapper' has no len()"
     ]
    }
   ],
   "source": [
    "len(termsF"
   ]
  },
  {
   "cell_type": "code",
   "execution_count": 67,
   "metadata": {},
   "outputs": [],
   "source": [
    "terms = termsFile.readlines()"
   ]
  },
  {
   "cell_type": "code",
   "execution_count": 109,
   "metadata": {},
   "outputs": [
    {
     "data": {
      "text/plain": [
       "2170"
      ]
     },
     "execution_count": 109,
     "metadata": {},
     "output_type": "execute_result"
    }
   ],
   "source": [
    "len(terms)"
   ]
  },
  {
   "cell_type": "code",
   "execution_count": 68,
   "metadata": {},
   "outputs": [],
   "source": [
    "keywords = [term.rstrip('\\n') for term in terms]"
   ]
  },
  {
   "cell_type": "code",
   "execution_count": 106,
   "metadata": {},
   "outputs": [
    {
     "name": "stdout",
     "output_type": "stream",
     "text": [
      "SKILLS ['javascript', 'less', 'java', 'database', 'testing', 'linux', 'product', 'communication', 'mvc', 'zoom', 'framework']\n",
      "EDUCATION ['bs']\n",
      "\n",
      "SKILLS ['javascript', 'less', 'java', 'database', 'testing', 'linux', 'product', 'communication', 'mvc', 'zoom', 'framework']\n",
      "EDUCATION ['bs']\n",
      "\n",
      "SKILLS ['next', 'python', 'nosql', 'sql', 'testing', 'bash', 'cpu', 'devops', 'kubernetes', 'linux', 'customer', 'growth', 'api', 'microservices', 'security', 'airflow', 'git', 'jenkins', 'finance', 'hardware']\n",
      "EDUCATION ['phd']\n",
      "\n"
     ]
    }
   ],
   "source": [
    "for i in range(len(jobPosts)):\n",
    "    skills = []\n",
    "    education = ['bs','bachelor','bachelor\\'s','master','ms','master\\'s','phd']\n",
    "    for key in keywords:\n",
    "       # key= \" \"+key+\" \"\n",
    "        if key in jobPosts[i]:\n",
    "            skills.append(key)\n",
    "    print('SKILLS',skills)\n",
    "    r_edu =[]\n",
    "    for e in education:\n",
    "       # e = \" \" + e + \" \"\n",
    "        if e in jobPosts[i]:\n",
    "            r_edu.append(e)\n",
    "    print('EDUCATION',r_edu)\n",
    "    print()\n"
   ]
  },
  {
   "cell_type": "code",
   "execution_count": 87,
   "metadata": {},
   "outputs": [],
   "source": [
    "template = {'4385545':{'skills':['javascript,python, angular'], \n",
    "                       'industry':['healthcare','telecommunication'],\n",
    "                       'education':['bachelor','master'],\n",
    "                       'seniority':'Senior',\n",
    "                       'Part of Stack': ['front end','backend'],\n",
    "                       'Experience':['2-6 YOE'],\n",
    "                       'preferred qualification':['React','PhD'],\n",
    "                       'Thing they developing':['web app']\n",
    "                      },\n",
    "            '5345465':{\n",
    "                \n",
    "            }\n",
    "           }"
   ]
  },
  {
   "cell_type": "code",
   "execution_count": null,
   "metadata": {},
   "outputs": [],
   "source": []
  }
 ],
 "metadata": {
  "kernelspec": {
   "display_name": "Python 3",
   "language": "python",
   "name": "python3"
  },
  "language_info": {
   "codemirror_mode": {
    "name": "ipython",
    "version": 3
   },
   "file_extension": ".py",
   "mimetype": "text/x-python",
   "name": "python",
   "nbconvert_exporter": "python",
   "pygments_lexer": "ipython3",
   "version": "3.7.4"
  }
 },
 "nbformat": 4,
 "nbformat_minor": 4
}
