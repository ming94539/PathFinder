{
 "cells": [
  {
   "cell_type": "code",
   "execution_count": null,
   "metadata": {},
   "outputs": [],
   "source": [
    "#Problems Encountered\n",
    "'''\n",
    "1. Abbreviation - B.A. B.S. - after my punctuation remover, it becomes B A B S. Making it miss stuff\n",
    "2. Tokenization - Miss key words with two or more words like \"React Native\"\n",
    "3. Double spaces - not completely sure yet but I think it's from the punctuation remover, but \n",
    "the regex that removes multiple consecutive spaces can deal with that\n",
    "'''\n"
   ]
  },
  {
   "cell_type": "code",
   "execution_count": 1,
   "metadata": {},
   "outputs": [],
   "source": [
    "import re\n",
    "from nltk.tokenize import word_tokenize "
   ]
  },
  {
   "cell_type": "code",
   "execution_count": 79,
   "metadata": {
    "scrolled": true
   },
   "outputs": [
    {
     "name": "stdout",
     "output_type": "stream",
     "text": [
      "['BREAK\\n', 'Zoomies help the world connect — and deliver happiness while doing it. We set out to build the best video conferencing product for the enterprise, and today help people communicate better with products like Zoom Phone, Zoom Rooms, Zoom Video Webinars, Zoom Apps, and OnZoom.\\n', '\\n', 'We’re problem-solvers and self-starters, working at a fast pace to design solutions with our customers and users in mind. Here, you’ll work across teams to dig deep into impactful projects that are changing the way people communicate, and enjoy opportunities to advance your career in a diverse, inclusive environment.\\n', '\\n', 'Zoom is an award-winning workplace. We have been recognized by Comparably as #1 CEO, Company Happiness, Benefits, Compensation, Diversity, and more! Not to mention we’ve been awarded by Glassdoor as the 2nd Best US workplace & Best Large Company US CEO in 2018, Wealthfront, and Business Insider. Our culture focuses on delivering happiness, our commitment to transparency, and the tangible benefits we provide our employees and our customers.\\n', '\\n', 'Java Full Stack Developer\\n', '\\n', 'Responsibilities\\n', 'Design, development, and testing of features/functions delivered via applications and services\\n', 'Working with operations teams to ensure your applications and services are highly available and reliable\\n', 'Hands on software development for product that will perform at scale, be supportable, and be extensible.\\n', '\\n', 'Requirements\\n', 'BS degree or equivalent in a directly related discipline (CS, Eng, etc.).\\n', 'Have prior internship or related work experience. (3+ years work experience)\\n', 'Have successfully built, deployed, and supported an enterprise-scale web application in the cloud.\\n', 'Ideally have full-stack experience, with expertise in at least one layer.\\n', 'Hands-on software development experience in Java.\\n', 'Hands-on software development experience in JavaScript with a modern MVC framework.\\n', 'Cognizant of modern database/storage technologies\\n', 'Understands complex workflows and develop and validate innovative solutions to solve difficult problems.\\n', 'Experience with multi-threaded programming.\\n', 'Experience developing application on Linux.\\n', '\\n', 'Preferred Qualifications\\n', 'Experience solving internet scale problems\\n', 'Experience working on cloud (on-demand) software\\n', 'Excellent verbal and written communication skill\\n', 'Cloud experience\\n', '\\n', 'Explore Zoom\\n', 'Hear from our leadership team\\n', 'Browse Awards and Employee Reviews on Comparably\\n', 'Visit our Blog\\n', 'Zoom with us!\\n', 'Find us on social at the links below and on Instagram\\n', 'Show less\\n', 'Seniority level\\n', 'Not Applicable\\n', 'Employment type\\n', 'Full-time\\n', 'Job function\\n', 'EngineeringInformation Technology\\n', 'Industries\\n', 'Information Technology and ServicesComputer SoftwareInternet\\n', 'Zoomies help the world connect — and deliver happiness while doing it. We set out to build the best video conferencing product for the enterprise, and today help people communicate better with products like Zoom Phone, Zoom Rooms, Zoom Video Webinars, Zoom Apps, and OnZoom.\\n', '\\n', 'We’re problem-solvers and self-starters, working at a fast pace to design solutions with our customers and users in mind. Here, you’ll work across teams to dig deep into impactful projects that are changing the way people communicate, and enjoy opportunities to advance your career in a diverse, inclusive environment.\\n', '\\n', 'Zoom is an award-winning workplace. We have been recognized by Comparably as #1 CEO, Company Happiness, Benefits, Compensation, Diversity, and more! Not to mention we’ve been awarded by Glassdoor as the 2nd Best US workplace & Best Large Company US CEO in 2018, Wealthfront, and Business Insider. Our culture focuses on delivering happiness, our commitment to transparency, and the tangible benefits we provide our employees and our customers.\\n', 'BREAK\\n', 'Java Full Stack Developer\\n', '\\n', 'Responsibilities\\n', 'Design, development, and testing of features/functions delivered via applications and services\\n', 'Working with operations teams to ensure your applications and services are highly available and reliable\\n', 'Hands on software development for product that will perform at scale, be supportable, and be extensible.\\n', '\\n', 'Requirements\\n', 'BS degree or equivalent in a directly related discipline (CS, Eng, etc.).\\n', 'Have prior internship or related work experience. (3+ years work experience)\\n', 'Have successfully built, deployed, and supported an enterprise-scale web application in the cloud.\\n', 'Ideally have full-stack experience, with expertise in at least one layer.\\n', 'Hands-on software development experience in Java.\\n', 'Hands-on software development experience in JavaScript with a modern MVC framework.\\n', 'Cognizant of modern database/storage technologies\\n', 'Understands complex workflows and develop and validate innovative solutions to solve difficult problems.\\n', 'Experience with multi-threaded programming.\\n', 'Experience developing application on Linux.\\n', '\\n', 'Preferred Qualifications\\n', 'Experience solving internet scale problems\\n', 'Experience working on cloud (on-demand) software\\n', 'Excellent verbal and written communication skill\\n', 'Cloud experience\\n', '\\n', 'Explore Zoom\\n', 'Hear from our leadership team\\n', 'Browse Awards and Employee Reviews on Comparably\\n', 'Visit our Blog\\n', 'Zoom with us!\\n', 'Find us on social at the links below and on Instagram\\n', 'Show less\\n', 'Seniority level\\n', 'Not Applicable\\n', 'Employment type\\n', 'Full-time\\n', 'Job function\\n', 'EngineeringInformation Technology\\n', 'Industries\\n', 'Information Technology and ServicesComputer SoftwareInternet\\n', 'Zoomies help the world connect — and deliver happiness while doing it. We set out to build the best video conferencing product for the enterprise, and today help people communicate better with products like Zoom Phone, Zoom Rooms, Zoom Video Webinars, Zoom Apps, and OnZoom.\\n', '\\n', 'We’re problem-solvers and self-starters, working at a fast pace to design solutions with our customers and users in mind. Here, you’ll work across teams to dig deep into impactful projects that are changing the way people communicate, and enjoy opportunities to advance your career in a diverse, inclusive environment.\\n', '\\n', 'Zoom is an award-winning workplace. We have been recognized by Comparably as #1 CEO, Company Happiness, Benefits, Compensation, Diversity, and more! Not to mention we’ve been awarded by Glassdoor as the 2nd Best US workplace & Best Large Company US CEO in 2018, Wealthfront, and Business Insider. Our culture focuses on delivering happiness, our commitment to transparency, and the tangible benefits we provide our employees and our customers.\\n', 'BREAK\\n', 'Do what you love. Love what you do.\\n', '\\n', 'At Workday, we help the world’s largest organizations adapt to what’s next by bringing finance, HR, and planning into a single enterprise cloud. We work hard, and we’re serious about what we do. But we like to have fun, too. We put people first, celebrate diversity, drive innovation, and do good in the communities where we live and work.\\n', '\\n', 'Job Description\\n', '\\n', 'About the Team\\n', '\\n', 'We believe if you do what you love, you’ll love what you do. There’s a lot to love at Workday. Part of a global, high-growth technology company, our Workday team has the unique opportunity of developing the next generation of Workday’s game-changing collaborative products supporting a customer base of more than 31 million strong. You will solve complex problems and influence teams across Workday as you build enterprise software. Thrive in our fun, people-first culture that creates an environment focused on your success and ability to do your best work. Join us as we change the way millions of people work.\\n', '\\n', 'About the Role\\n', '\\n', 'The Workday HCM and WFM Machine Learning team is seeking an energetic and self-driven Software Engineer to design, implement, and deliver highly scalable Machine Learning features. As a member of this fast paced group you will have a unique and rewarding opportunity to shape and contribute towards microservices that power Workday Machine Learning features in production. In this role, you will partner with Data Scientists, Machine Learning Engineers, and other Software Engineers to create the technology that that brings these features to life.\\n', '\\n', 'About You\\n', 'In addition to using your technical abilities to drive feature development, you must have a mindset of continuous improvement, passion for quality, scale, and security. You must derive joy from creating delightful customer experience. You must be intellectually curious and creative in appl\\n', 'ying technology to build services that scale, are secure, and highly usable. A strong sense of ownership and teamwork are key to succeed in this role. \\n', '\\n', 'Key Responsibilities:\\n', 'Design, implement, and maintain large-scale systems (1M+ requests per day) that bring machine learning models into production\\n', 'Conduct performance testing on API endpoints and batch jobs to identify and correct CPU and memory bottlenecks\\n', 'Uptake new technologies made available within Workday\\n', 'Forecast hardware capacity needs to support growing scale\\n', 'Troubleshoot, improve, and scale Continuous Integration pipelines\\n', 'Write design documents to build consensus for new systems components and enhancements to existing components\\n', 'Develop relationships with software engineers, machine learning engineers, and data scientists on partner teams\\n', 'Respond to alerts and debug production issues\\n', 'Review pull requests from data scientists and software engineers, and enforce consistency, performance, readability, and security across codebase\\n', 'Develop documentation to share knowledge with other engineers\\n', '\\n', 'Basic Qualifications:\\n', 'B.A./B.S. in Computer Science (PhD / Masters preferred)\\n', '4+ years of full-time industry experience in software engineering, preferably with machine learning exposure\\n', 'Strong programming skills in Python and knowledge of Bash / Linux command line\\n', 'Proven experience designing and deploying high performance systems in production\\n', 'Experience with industry tools used to build scalable machine learning systems, such as SQL, NoSQL, Elastic Search, and/or Spark\\n', 'Experience with data pipelines (e.g. Airflow)\\n', 'DevOps experience, and knowledge of common industry tools like Git, Kubernetes and Jenkins\\n', 'Self-motivation and a strong sense of ownership.\\n', 'An ability to balance a sense of urgency with shipping high quality and pragmatic solutions\\n', 'Strong communication and interpersonal skills \\n']\n"
     ]
    }
   ],
   "source": [
    "jobsFile = open(\"sample_jobposts.txt\")\n",
    "jobslines = jobsFile.readlines()\n",
    "print(jobslines)"
   ]
  },
  {
   "cell_type": "code",
   "execution_count": 81,
   "metadata": {},
   "outputs": [
    {
     "name": "stdout",
     "output_type": "stream",
     "text": [
      "----\n"
     ]
    }
   ],
   "source": [
    "#Seperate Job Posts, put them all in a list, with each element a job post\n",
    "jobsFile = open(\"sample_jobposts.txt\")\n",
    "jobslines = jobsFile.readlines()\n",
    "origPosts = []\n",
    "jobPosts = []\n",
    "post = \"\"\n",
    "origPost = \"\"\n",
    "firstOne = True\n",
    "for l in range(len(jobslines)):\n",
    "    if jobslines[l] == \"BREAK\\n\" or l == len(jobslines)-1 :\n",
    "        if firstOne:\n",
    "            firstOne = False\n",
    "        else:\n",
    "            jobPosts.append(post)\n",
    "            origPosts.append(origPost)\n",
    "            post = \"\"\n",
    "            origPost = \"\"\n",
    "        continue\n",
    "    origPost += jobslines[l]\n",
    "    post+= re.sub(r'[^\\w\\s]', ' ', jobslines[l].lower())\n",
    "    \n",
    "print('----')\n",
    "for p in range(len(jobPosts)):\n",
    "    jobPosts[p]= re.sub(' +', ' ', jobPosts[p].replace('\\n',' ')) #remove unnecessary double/triple white space\n",
    "#print(jobPosts[2])\n",
    "# for pos in range(len(jobPosts)):\n",
    "#     jobPosts[pos]= jobPosts[pos].strip(\"\\n\") \n",
    "#     print(jobPosts[pos])\n",
    "#strip after getting the posts, since break\\n relies on \\n\n",
    "#Can't use tokenization because some keywords contain multiple words, can't match individually\n",
    "#lowercase for consistency\n",
    "#strip \"\\n\" since some words are connected to it like \"\\njava\", which won't let us detect java\n",
    "# for p in range(len(jobPosts)):\n",
    "#     jobPosts[p] = word_tokenize(jobPosts[p])"
   ]
  },
  {
   "cell_type": "code",
   "execution_count": 87,
   "metadata": {},
   "outputs": [
    {
     "name": "stdout",
     "output_type": "stream",
     "text": [
      "do what you love love what you do at workday we help the world s largest organizations adapt to what s next by bringing finance hr and planning into a single enterprise cloud we work hard and we re serious about what we do but we like to have fun too we put people first celebrate diversity drive innovation and do good in the communities where we live and work job description about the team we believe if you do what you love you ll love what you do there s a lot to love at workday part of a global high growth technology company our workday team has the unique opportunity of developing the next generation of workday s game changing collaborative products supporting a customer base of more than 31 million strong you will solve complex problems and influence teams across workday as you build enterprise software thrive in our fun people first culture that creates an environment focused on your success and ability to do your best work join us as we change the way millions of people work about the role the workday hcm and wfm machine learning team is seeking an energetic and self driven software engineer to design implement and deliver highly scalable machine learning features as a member of this fast paced group you will have a unique and rewarding opportunity to shape and contribute towards microservices that power workday machine learning features in production in this role you will partner with data scientists machine learning engineers and other software engineers to create the technology that that brings these features to life about you in addition to using your technical abilities to drive feature development you must have a mindset of continuous improvement passion for quality scale and security you must derive joy from creating delightful customer experience you must be intellectually curious and creative in appl ying technology to build services that scale are secure and highly usable a strong sense of ownership and teamwork are key to succeed in this role key responsibilities design implement and maintain large scale systems 1m requests per day that bring machine learning models into production conduct performance testing on api endpoints and batch jobs to identify and correct cpu and memory bottlenecks uptake new technologies made available within workday forecast hardware capacity needs to support growing scale troubleshoot improve and scale continuous integration pipelines write design documents to build consensus for new systems components and enhancements to existing components develop relationships with software engineers machine learning engineers and data scientists on partner teams respond to alerts and debug production issues review pull requests from data scientists and software engineers and enforce consistency performance readability and security across codebase develop documentation to share knowledge with other engineers basic qualifications b a b s in computer science phd masters preferred 4 years of full time industry experience in software engineering preferably with machine learning exposure strong programming skills in python and knowledge of bash linux command line proven experience designing and deploying high performance systems in production experience with industry tools used to build scalable machine learning systems such as sql nosql elastic search and or spark experience with data pipelines e g airflow devops experience and knowledge of common industry tools like git kubernetes and jenkins self motivation and a strong sense of ownership an ability to balance a sense of urgency with shipping high quality and pragmatic solutions \n"
     ]
    }
   ],
   "source": [
    "print(jobPosts[2])"
   ]
  },
  {
   "cell_type": "code",
   "execution_count": 107,
   "metadata": {},
   "outputs": [
    {
     "ename": "AttributeError",
     "evalue": "'list' object has no attribute 'find'",
     "output_type": "error",
     "traceback": [
      "\u001b[0;31m---------------------------------------------------------------------------\u001b[0m",
      "\u001b[0;31mAttributeError\u001b[0m                            Traceback (most recent call last)",
      "\u001b[0;32m<ipython-input-107-415abd5ede9a>\u001b[0m in \u001b[0;36m<module>\u001b[0;34m\u001b[0m\n\u001b[0;32m----> 1\u001b[0;31m \u001b[0mtemp\u001b[0m \u001b[0;34m=\u001b[0m \u001b[0mjobPosts\u001b[0m\u001b[0;34m[\u001b[0m\u001b[0;36m0\u001b[0m\u001b[0;34m]\u001b[0m\u001b[0;34m.\u001b[0m\u001b[0mfind\u001b[0m\u001b[0;34m(\u001b[0m\u001b[0;34m'master'\u001b[0m\u001b[0;34m)\u001b[0m\u001b[0;34m\u001b[0m\u001b[0;34m\u001b[0m\u001b[0m\n\u001b[0m\u001b[1;32m      2\u001b[0m \u001b[0mprint\u001b[0m\u001b[0;34m(\u001b[0m\u001b[0mtemp\u001b[0m\u001b[0;34m)\u001b[0m\u001b[0;34m\u001b[0m\u001b[0;34m\u001b[0m\u001b[0m\n\u001b[1;32m      3\u001b[0m \u001b[0mjobPosts\u001b[0m\u001b[0;34m[\u001b[0m\u001b[0;36m0\u001b[0m\u001b[0;34m]\u001b[0m\u001b[0;34m[\u001b[0m\u001b[0mtemp\u001b[0m\u001b[0;34m-\u001b[0m\u001b[0;36m15\u001b[0m\u001b[0;34m:\u001b[0m\u001b[0mtemp\u001b[0m\u001b[0;34m+\u001b[0m\u001b[0;36m15\u001b[0m\u001b[0;34m]\u001b[0m\u001b[0;34m\u001b[0m\u001b[0;34m\u001b[0m\u001b[0m\n",
      "\u001b[0;31mAttributeError\u001b[0m: 'list' object has no attribute 'find'"
     ]
    }
   ],
   "source": [
    "temp = jobPosts[0].find('master')\n",
    "#print(temp)\n",
    "#jobPosts[0][temp-15:temp+15]"
   ]
  },
  {
   "cell_type": "code",
   "execution_count": 16,
   "metadata": {},
   "outputs": [],
   "source": [
    "termsFile = open(\"keywords.txt\",\"r\")\n",
    "terms = termsFile.readlines()"
   ]
  },
  {
   "cell_type": "code",
   "execution_count": 17,
   "metadata": {},
   "outputs": [
    {
     "name": "stdout",
     "output_type": "stream",
     "text": [
      "2170\n",
      "max spaces in a word in the termsFile 5\n",
      "the word: load, stress and performance testing tools\n",
      "\n"
     ]
    }
   ],
   "source": [
    "print(len(terms))\n",
    "max_spaces = 0\n",
    "max_term = \"\"\n",
    "for term in terms:\n",
    "    count = 0\n",
    "    for tok in term:\n",
    "        if tok == ' ':\n",
    "            count+=1\n",
    "    if count > max_spaces:\n",
    "        max_spaces = count\n",
    "        max_term = term\n",
    "print('max spaces in a word in the termsFile',max_spaces)\n",
    "print('the word:', max_term)"
   ]
  },
  {
   "cell_type": "code",
   "execution_count": 85,
   "metadata": {},
   "outputs": [],
   "source": [
    "keywords = [term.rstrip('\\n') for term in terms]\n",
    "deg_lvl = ['ba','bs','bachelor','bachelor\\'s','master','ms','master\\'s','phd']\n",
    "deg_title = {'cs':['computer science','cs'],\n",
    "             'ce':['computer engineering','ce'],\n",
    "              'ee':['electrical engineering','ee']\n",
    "    \n",
    "}"
   ]
  },
  {
   "cell_type": "code",
   "execution_count": 86,
   "metadata": {},
   "outputs": [
    {
     "name": "stdout",
     "output_type": "stream",
     "text": [
      "SKILLS ['javascript', 'less', 'java', 'database', 'testing', 'linux', 'product', 'communication', 'mvc', 'web application', 'zoom', 'software development', 'framework', 'information technology']\n",
      "Education level ['bs']\n",
      "Degree title ['cs']\n",
      "SKILLS ['javascript', 'less', 'java', 'database', 'testing', 'linux', 'product', 'communication', 'mvc', 'web application', 'zoom', 'software development', 'framework', 'information technology']\n",
      "Education level ['bs']\n",
      "Degree title ['cs']\n",
      "SKILLS ['next', 'python', 'nosql', 'sql', 'performance testing', 'testing', 'bash', 'cpu', 'devops', 'kubernetes', 'linux', 'customer', 'growth', 'api', 'microservices', 'security', 'airflow', 'machine learning', 'git', 'jenkins', 'finance', 'computer science', 'customer experience', 'enterprise software', 'hardware']\n",
      "Education level ['phd']\n",
      "Degree title ['cs']\n"
     ]
    }
   ],
   "source": [
    "for i in range(len(jobPosts)):\n",
    "    skills = []\n",
    "    deg_titles = []\n",
    "    for key in keywords:\n",
    "        key= \" \"+key+\" \"\n",
    "        if key in jobPosts[i]:\n",
    "            skills.append(key.strip())\n",
    "    print('SKILLS',skills)\n",
    "    r_edu =[]\n",
    "    for e in deg_lvl:\n",
    "        e = \" \" + e + \" \"\n",
    "        if e in jobPosts[i]:\n",
    "            r_edu.append(e.strip())\n",
    "    for d_key, d_value in deg_title.items():\n",
    "        for title in d_value:\n",
    "            title = \" \"+title+\" \"\n",
    "            if title in jobPosts[i]:\n",
    "                deg_titles.append(d_key)\n",
    "    print('Education level',r_edu)\n",
    "    print('Degree title', deg_titles)\n"
   ]
  },
  {
   "cell_type": "code",
   "execution_count": 87,
   "metadata": {},
   "outputs": [],
   "source": [
    "template = {'4385545':{'skills':['javascript,python, angular'], \n",
    "                       'industry':['healthcare','telecommunication'],\n",
    "                       'education':['bachelor','master'],\n",
    "                       'seniority':'Senior',\n",
    "                       'Part of Stack': ['front end','backend'],\n",
    "                       'Experience':['2-6 YOE'],\n",
    "                       'preferred qualification':['React','PhD'],\n",
    "                      },\n",
    "            '5345465':{\n",
    "                \n",
    "            }\n",
    "           }"
   ]
  },
  {
   "cell_type": "code",
   "execution_count": null,
   "metadata": {},
   "outputs": [],
   "source": []
  }
 ],
 "metadata": {
  "kernelspec": {
   "display_name": "Python 3",
   "language": "python",
   "name": "python3"
  },
  "language_info": {
   "codemirror_mode": {
    "name": "ipython",
    "version": 3
   },
   "file_extension": ".py",
   "mimetype": "text/x-python",
   "name": "python",
   "nbconvert_exporter": "python",
   "pygments_lexer": "ipython3",
   "version": "3.7.4"
  }
 },
 "nbformat": 4,
 "nbformat_minor": 4
}
