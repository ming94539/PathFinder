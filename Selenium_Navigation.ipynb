{
 "cells": [
  {
   "cell_type": "code",
   "execution_count": 1,
   "metadata": {},
   "outputs": [],
   "source": [
    "import pandas as pd\n",
    "import re\n",
    "from selenium import webdriver\n",
    "from selenium.webdriver.common.keys import Keys\n",
    "from bs4 import BeautifulSoup"
   ]
  },
  {
   "cell_type": "code",
   "execution_count": 2,
   "metadata": {},
   "outputs": [],
   "source": [
    "browser = webdriver.Chrome(\"./chromedriver\")\n",
    "browser.get(\"https://www.linkedin.com\")"
   ]
  },
  {
   "cell_type": "code",
   "execution_count": 3,
   "metadata": {},
   "outputs": [],
   "source": [
    "username = browser.find_element_by_id(\"session_key\")\n",
    "username.send_keys(\"mjeng@ucsc.edu\")\n",
    "password = browser.find_element_by_id(\"session_password\")\n",
    "password.send_keys(\"CSE115Project\")"
   ]
  },
  {
   "cell_type": "code",
   "execution_count": 4,
   "metadata": {},
   "outputs": [],
   "source": [
    "login_button=browser.find_element_by_class_name(\"sign-in-form__submit-button\")\n",
    "login_button.click()"
   ]
  },
  {
   "cell_type": "code",
   "execution_count": 5,
   "metadata": {},
   "outputs": [],
   "source": [
    "browser.get(\"https://www.linkedin.com/jobs\")"
   ]
  },
  {
   "cell_type": "code",
   "execution_count": 9,
   "metadata": {},
   "outputs": [],
   "source": [
    "job_search_bar = browser.find_element_by_id(\"jobs-search-box-keyword-id-ember37\")\n",
    "job_search_bar.send_keys(\"Software Engineer\")"
   ]
  },
  {
   "cell_type": "code",
   "execution_count": 10,
   "metadata": {},
   "outputs": [],
   "source": [
    "job_search_button = browser.find_element_by_class_name(\"jobs-search-box__submit-button\")\n",
    "job_search_button.click()"
   ]
  },
  {
   "cell_type": "code",
   "execution_count": 38,
   "metadata": {},
   "outputs": [
    {
     "name": "stdout",
     "output_type": "stream",
     "text": [
      "You are scraping information about 25 jobs.\n"
     ]
    }
   ],
   "source": [
    "# ------------------\n",
    "# parsing the visible webpage\n",
    "driver = browser\n",
    "pageSource = driver.page_source\n",
    "lxml_soup = BeautifulSoup(pageSource, 'lxml')\n",
    "\n",
    "# searching for all job containers\n",
    "#job_container = lxml_soup.find('ul', class_ = 'jobs-search-results__list')\n",
    "job_container = lxml_soup.find_all('li', class_ = 'jobs-search-results__list-item')\n",
    "\n",
    "#print(job_container[0])\n",
    "print('You are scraping information about {} jobs.'.format(len(job_container)))"
   ]
  },
  {
   "cell_type": "code",
   "execution_count": 40,
   "metadata": {},
   "outputs": [
    {
     "data": {
      "text/plain": [
       "<li class=\"jobs-search-results__list-item occludable-update p0 relative ember-view\" data-occludable-entity-urn=\"urn:li:fs_normalized_jobPosting:2484387372\" id=\"ember600\">\n",
       "<div>\n",
       "<div class=\"job-card-container relative job-card-list job-card-container--clickable job-card-list--underline-title-on-hover jobs-search-results-list__list-item--active jobs-search-two-pane__job-card-container--viewport-tracking-0\" data-job-id=\"2484387372\">\n",
       "<div class=\"flex-grow-1 artdeco-entity-lockup artdeco-entity-lockup--size-4 ember-view\" id=\"ember601\">\n",
       "<div class=\"mr1 artdeco-entity-lockup__image artdeco-entity-lockup__image--type-square ember-view\" id=\"ember602\" type=\"square\">\n",
       "<a class=\"disabled ember-view job-card-container__link\" data-control-id=\"tWaEXnB/ZLeCGdbT/5rUyA==\" href=\"/jobs/view/2484387372/?eBP=CwEAAAF4yChNQ32M8O4xXqekJ4gf1JTMFFVj6niNVr_ekXX31mhUTImYjsp-WGZ65uyx_dgx-XZeMqVqxEQCrD-Eu4Bzr4yQlyr1P3ZTLAL6MDmrCe1sKtqiAiCdX_0p0NQqnalcZk2ChJufAcEdePl4N-Pq1Mz-YUi31nXqaFNJJ17EVz9xw37QnKZaaLc2T-UprWb9wnWOvkE0BjFwMWQRqvRnfslMwKxhbauvddQIusEIKfzz-fl2PjwbhkTwAOXONYo6OXyjrTdEx5NIotup5NDfQePXd9T0CulJgMNnrWkGcN82N7VEzbtNUeCtJ00DCKW-4JXcZ-qXnZAakN8G1BnkTQKZHskXJGY&amp;recommendedFlavor=ACTIVELY_HIRING_COMPANY&amp;refId=FuPKndNMJfDwkBYAJO1PSA%3D%3D&amp;trackingId=tWaEXnB%2FZLeCGdbT%2F5rUyA%3D%3D&amp;trk=flagship3_search_srp_jobs\" id=\"ember603\" tabindex=\"-1\">\n",
       "<img alt=\"Adobe logo\" class=\"ember-view\" id=\"ember604\" src=\"https://media-exp1.licdn.com/dms/image/C560BAQFrtK-ioO1rsQ/company-logo_100_100/0/1590681827578?e=1626307200&amp;v=beta&amp;t=pLlcW7ZhxMqoNvOtugy6scOqx0XLtvlQEqO7JxGbVT8\" title=\"Adobe\"/>\n",
       "</a>\n",
       "</div>\n",
       "<div class=\"flex-grow-1 artdeco-entity-lockup__content ember-view\" id=\"ember605\">\n",
       "<div class=\"full-width artdeco-entity-lockup__title ember-view\" id=\"ember606\">\n",
       "<a class=\"disabled ember-view job-card-container__link job-card-list__title\" data-control-id=\"tWaEXnB/ZLeCGdbT/5rUyA==\" href=\"/jobs/view/2484387372/?eBP=CwEAAAF4yChNQ32M8O4xXqekJ4gf1JTMFFVj6niNVr_ekXX31mhUTImYjsp-WGZ65uyx_dgx-XZeMqVqxEQCrD-Eu4Bzr4yQlyr1P3ZTLAL6MDmrCe1sKtqiAiCdX_0p0NQqnalcZk2ChJufAcEdePl4N-Pq1Mz-YUi31nXqaFNJJ17EVz9xw37QnKZaaLc2T-UprWb9wnWOvkE0BjFwMWQRqvRnfslMwKxhbauvddQIusEIKfzz-fl2PjwbhkTwAOXONYo6OXyjrTdEx5NIotup5NDfQePXd9T0CulJgMNnrWkGcN82N7VEzbtNUeCtJ00DCKW-4JXcZ-qXnZAakN8G1BnkTQKZHskXJGY&amp;recommendedFlavor=ACTIVELY_HIRING_COMPANY&amp;refId=FuPKndNMJfDwkBYAJO1PSA%3D%3D&amp;trackingId=tWaEXnB%2FZLeCGdbT%2F5rUyA%3D%3D&amp;trk=flagship3_search_srp_jobs\" id=\"ember607\">\n",
       "            Software Engineer\n",
       "          </a>\n",
       "</div>\n",
       "<div class=\"artdeco-entity-lockup__subtitle ember-view\" id=\"ember608\">\n",
       "<a class=\"job-card-container__link job-card-container__company-name ember-view\" data-control-id=\"tWaEXnB/ZLeCGdbT/5rUyA==\" data-control-name=\"job_card_company_link\" href=\"/company/1480/\" id=\"ember609\">\n",
       "              Adobe\n",
       "            </a>\n",
       "</div>\n",
       "<div class=\"artdeco-entity-lockup__caption ember-view\" id=\"ember610\">\n",
       "<ul class=\"job-card-container__metadata-wrapper\">\n",
       "<li class=\"job-card-container__metadata-item\">San Jose, CA</li>\n",
       "<!-- --> </ul>\n",
       "</div>\n",
       "<div class=\"mt1 t-sans t-12 t-black--light t-normal t-roman artdeco-entity-lockup__metadata ember-view\" id=\"ember611\">\n",
       "<ul class=\"job-card-container__metadata-wrapper\">\n",
       "<li class=\"job-card-container__metadata-item\">$116K – $155K</li>\n",
       "<!-- --><!-- --> </ul>\n",
       "</div>\n",
       "</div>\n",
       "<div class=\"job-card-container__action-container flex-shrink-zero display-flex align-items-flex-end flex-column\">\n",
       "<div class=\"job-card-container__action--visible-on-hover\">\n",
       "<button aria-label=\"Hide job\" class=\"job-card-container__action artdeco-button artdeco-button--circle artdeco-button--muted artdeco-button--2 artdeco-button--tertiary ember-view\" id=\"ember612\" type=\"button\"> <li-icon aria-hidden=\"true\" class=\"artdeco-button__icon\" type=\"block-icon\"><svg class=\"mercado-match\" data-supported-dps=\"24x24\" fill=\"currentColor\" focusable=\"false\" height=\"24\" viewbox=\"0 0 24 24\" width=\"24\" xmlns=\"http://www.w3.org/2000/svg\">\n",
       "<path d=\"M12 2a10 10 0 1010 10A10 10 0 0012 2zM4 12a8 8 0 018-8 7.91 7.91 0 014.9 1.69L5.69 16.9A7.91 7.91 0 014 12zm8 8a7.91 7.91 0 01-4.9-1.69L18.31 7.1A7.91 7.91 0 0120 12a8 8 0 01-8 8z\"></path>\n",
       "</svg></li-icon>\n",
       "<span class=\"artdeco-button__text\">\n",
       "    Hide job\n",
       "</span></button>\n",
       "</div>\n",
       "<!-- -->\n",
       "</div>\n",
       "</div>\n",
       "<!-- -->\n",
       "<div class=\"job-card-list__insight\">\n",
       "<div>\n",
       "<div class=\"job-flavors__flavor\">\n",
       "<li-icon aria-label=\"Actively recruiting\" class=\"job-flavors__icon job-flavors__icon--green7\" role=\"img\" size=\"medium\" type=\"radar-screen-icon\"><svg class=\"mercado-match\" data-supported-dps=\"24x24\" fill=\"currentColor\" focusable=\"false\" height=\"24\" viewbox=\"0 0 24 24\" width=\"24\" xmlns=\"http://www.w3.org/2000/svg\">\n",
       "<path d=\"M12 20a8 8 0 010-16 7.91 7.91 0 014.9 1.69l-1.43 1.42a6 6 0 101.42 1.42l3.82-3.82a1 1 0 000-1.41A1 1 0 0020 3a1 1 0 00-.7.29l-1 1A10 10 0 1022 12h-2a8 8 0 01-8 8zm5-8a5 5 0 11-5-5 4.93 4.93 0 012.76.82l-2.24 2.24A2.24 2.24 0 0012 10a2 2 0 102 2 2.24 2.24 0 00-.07-.51l2.24-2.24A5 5 0 0117 12z\"></path>\n",
       "</svg></li-icon>\n",
       "<span class=\"job-flavors__label t-12 t-black--light\">\n",
       "    Actively recruiting\n",
       "  </span>\n",
       "</div>\n",
       "</div>\n",
       "</div>\n",
       "<ul class=\"job-card-list__footer-wrapper job-card-container__footer-wrapper flex-shrink-zero display-flex t-sans t-12 t-black--light t-normal t-roman\">\n",
       "<li class=\"t-12 t-normal t-black--light job-card-container__footer-item\">Promoted</li>\n",
       "<!-- -->\n",
       "<li class=\"job-card-container__apply-method job-card-container__footer-item inline-flex align-items-center\">\n",
       "<li-icon aria-hidden=\"true\" class=\"mr1\" size=\"small\" type=\"linkedin-inbug-color-icon\"><svg class=\"mercado-match\" data-supported-dps=\"16x16\" focusable=\"false\" height=\"16\" viewbox=\"0 0 16 16\" width=\"16\" xmlns=\"http://www.w3.org/2000/svg\">\n",
       "<path d=\"M15 2v12a1 1 0 01-1 1H2a1 1 0 01-1-1V2a1 1 0 011-1h12a1 1 0 011 1zM5 6H3v7h2zm.25-2A1.25 1.25 0 104 5.25 1.25 1.25 0 005.25 4zM13 9.29c0-2.2-.73-3.49-2.86-3.49A2.71 2.71 0 007.89 7V6H6v7h2V9.73a1.73 1.73 0 011.52-1.92h.14C10.82 7.8 11 8.94 11 9.73V13h2z\" fill=\"#0a66c2\"></path>\n",
       "</svg></li-icon>\n",
       "            Easily Apply\n",
       "          </li>\n",
       "</ul>\n",
       "</div>\n",
       "</div>\n",
       "<!-- -->\n",
       "</li>"
      ]
     },
     "execution_count": 40,
     "metadata": {},
     "output_type": "execute_result"
    }
   ],
   "source": [
    "job_container[0]"
   ]
  },
  {
   "cell_type": "code",
   "execution_count": 39,
   "metadata": {},
   "outputs": [
    {
     "ename": "AttributeError",
     "evalue": "'NoneType' object has no attribute 'text'",
     "output_type": "error",
     "traceback": [
      "\u001b[0;31m---------------------------------------------------------------------------\u001b[0m",
      "\u001b[0;31mAttributeError\u001b[0m                            Traceback (most recent call last)",
      "\u001b[0;32m<ipython-input-39-9aaf8870c58b>\u001b[0m in \u001b[0;36m<module>\u001b[0;34m\u001b[0m\n\u001b[1;32m     15\u001b[0m \u001b[0;34m\u001b[0m\u001b[0m\n\u001b[1;32m     16\u001b[0m     \u001b[0;31m# job title\u001b[0m\u001b[0;34m\u001b[0m\u001b[0;34m\u001b[0m\u001b[0;34m\u001b[0m\u001b[0m\n\u001b[0;32m---> 17\u001b[0;31m     \u001b[0mjob_titles\u001b[0m \u001b[0;34m=\u001b[0m \u001b[0mjob\u001b[0m\u001b[0;34m.\u001b[0m\u001b[0mfind\u001b[0m\u001b[0;34m(\u001b[0m\u001b[0mclass_\u001b[0m\u001b[0;34m=\u001b[0m\u001b[0;34m\"screen-reader-text\"\u001b[0m\u001b[0;34m)\u001b[0m\u001b[0;34m.\u001b[0m\u001b[0mtext\u001b[0m\u001b[0;34m\u001b[0m\u001b[0;34m\u001b[0m\u001b[0m\n\u001b[0m\u001b[1;32m     18\u001b[0m     \u001b[0mpost_title\u001b[0m\u001b[0;34m.\u001b[0m\u001b[0mappend\u001b[0m\u001b[0;34m(\u001b[0m\u001b[0mjob_titles\u001b[0m\u001b[0;34m)\u001b[0m\u001b[0;34m\u001b[0m\u001b[0;34m\u001b[0m\u001b[0m\n\u001b[1;32m     19\u001b[0m \u001b[0;34m\u001b[0m\u001b[0m\n",
      "\u001b[0;31mAttributeError\u001b[0m: 'NoneType' object has no attribute 'text'"
     ]
    }
   ],
   "source": [
    "# setting up list for job information\n",
    "job_id = []\n",
    "post_title = []\n",
    "company_name = []\n",
    "post_date = []\n",
    "job_location = []\n",
    "job_desc = []\n",
    "level = []\n",
    "emp_type = []\n",
    "functions = []\n",
    "industries = []\n",
    "\n",
    "# for loop for job title, company, id, location and date posted\n",
    "for job in job_container:\n",
    "    \n",
    "    # job title\n",
    "    job_titles = job.find(class_=\"screen-reader-text\").text\n",
    "    post_title.append(job_titles)\n",
    "    \n",
    "    # linkedin job id\n",
    "    job_ids = job.find('a', href=True)['href']\n",
    "    job_ids = re.findall(r'(?!-)([0-9]*)(?=\\?)',job_ids)[0]\n",
    "    job_id.append(job_ids)\n",
    "    \n",
    "    # company name\n",
    "    company_names = job.select_one('img')['alt']\n",
    "    company_name.append(company_names)\n",
    "    \n",
    "    # job location\n",
    "    job_locations = job.find(\"span\", class_=\"job-result-card__location\").text\n",
    "    job_location.append(job_locations)\n",
    "    \n",
    "    # posting date\n",
    "    post_dates = job.select_one('time')['datetime']\n",
    "    post_date.append(post_dates)\n",
    "\n",
    "# for loop for job description and criterias\n",
    "for x in range(1,len(job_id)+1):\n",
    "    \n",
    "    # clicking on different job containers to view information about the job\n",
    "    job_xpath = '/html/body/main/div/section/ul/li[{}]/img'.format(x)\n",
    "    driver.find_element_by_xpath(job_xpath).click()\n",
    "    sleep(3)\n",
    "    \n",
    "    # job description\n",
    "    jobdesc_xpath = '/html/body/main/section/div[2]/section[2]/div'\n",
    "    job_descs = driver.find_element_by_xpath(jobdesc_xpath).text\n",
    "    job_desc.append(job_descs)\n",
    "    \n",
    "    # job criteria container below the description\n",
    "    job_criteria_container = lxml_soup.find('ul', class_ = 'job-criteria__list')\n",
    "    all_job_criterias = job_criteria_container.find_all(\"span\", class_='job-criteria__text job-criteria__text--criteria')\n",
    "    \n",
    "    # Seniority level\n",
    "    seniority_xpath = '/html/body/main/section/div[2]/section[2]/ul/li[1]'\n",
    "    seniority = driver.find_element_by_xpath(seniority_xpath).text.splitlines(0)[1]\n",
    "    level.append(seniority)\n",
    "    \n",
    "    # Employment type\n",
    "    type_xpath = '/html/body/main/section/div[2]/section[2]/ul/li[2]'\n",
    "    employment_type = driver.find_element_by_xpath(type_xpath).text.splitlines(0)[1]\n",
    "    emp_type.append(employment_type)\n",
    "    \n",
    "    # Job function\n",
    "    function_xpath = '/html/body/main/section/div[2]/section[2]/ul/li[3]'\n",
    "    job_function = driver.find_element_by_xpath(function_xpath).text.splitlines(0)[1]\n",
    "    functions.append(job_function)\n",
    "    \n",
    "    # Industries\n",
    "    industry_xpath = '/html/body/main/section/div[2]/section[2]/ul/li[4]'\n",
    "    industry_type = driver.find_element_by_xpath(industry_xpath).text.splitlines(0)[1]\n",
    "    industries.append(industry_type)\n",
    "    \n",
    "    x = x+1"
   ]
  },
  {
   "cell_type": "code",
   "execution_count": null,
   "metadata": {},
   "outputs": [],
   "source": [
    "print(len(job_id))\n",
    "print(len(post_date))\n",
    "print(len(company_name))\n",
    "print(len(post_title))\n",
    "print(len(job_location))\n",
    "print(len(job_desc))\n",
    "print(len(level))\n",
    "print(len(emp_type))\n",
    "print(len(functions))\n",
    "print(len(industries))"
   ]
  }
 ],
 "metadata": {
  "kernelspec": {
   "display_name": "Python 3",
   "language": "python",
   "name": "python3"
  },
  "language_info": {
   "codemirror_mode": {
    "name": "ipython",
    "version": 3
   },
   "file_extension": ".py",
   "mimetype": "text/x-python",
   "name": "python",
   "nbconvert_exporter": "python",
   "pygments_lexer": "ipython3",
   "version": "3.7.4"
  }
 },
 "nbformat": 4,
 "nbformat_minor": 4
}
