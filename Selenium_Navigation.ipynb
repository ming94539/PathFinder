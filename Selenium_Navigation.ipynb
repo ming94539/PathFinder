{
 "cells": [
  {
   "cell_type": "code",
   "execution_count": 183,
   "metadata": {},
   "outputs": [],
   "source": [
    "import pandas as pd\n",
    "import re\n",
    "from selenium import webdriver\n",
    "from selenium.webdriver.support.ui import WebDriverWait\n",
    "from selenium.webdriver.common.action_chains import ActionChains\n",
    "from selenium.webdriver.common.keys import Keys\n",
    "from bs4 import BeautifulSoup\n",
    "import time"
   ]
  },
  {
   "cell_type": "code",
   "execution_count": 200,
   "metadata": {},
   "outputs": [],
   "source": [
    "browser = webdriver.Chrome(\"./chromedriver\")\n",
    "browser.get(\"https://www.linkedin.com\")"
   ]
  },
  {
   "cell_type": "code",
   "execution_count": 201,
   "metadata": {},
   "outputs": [],
   "source": [
    "username = browser.find_element_by_id(\"session_key\")\n",
    "username.send_keys(\"mjeng@ucsc.edu\")\n",
    "password = browser.find_element_by_id(\"session_password\")\n",
    "password.send_keys(\"CSE115Project\")"
   ]
  },
  {
   "cell_type": "code",
   "execution_count": 202,
   "metadata": {},
   "outputs": [],
   "source": [
    "login_button=browser.find_element_by_class_name(\"sign-in-form__submit-button\")\n",
    "login_button.click()"
   ]
  },
  {
   "cell_type": "code",
   "execution_count": 203,
   "metadata": {},
   "outputs": [],
   "source": [
    "browser.get(\"https://www.linkedin.com/jobs\")"
   ]
  },
  {
   "cell_type": "code",
   "execution_count": 204,
   "metadata": {},
   "outputs": [],
   "source": [
    "job_search_bar = browser.find_element_by_id(\"jobs-search-box-keyword-id-ember37\")\n",
    "job_search_bar.send_keys(\"Software Engineer\")"
   ]
  },
  {
   "cell_type": "code",
   "execution_count": 206,
   "metadata": {
    "scrolled": true
   },
   "outputs": [],
   "source": [
    "job_search_button = browser.find_element_by_class_name(\"jobs-search-box__submit-button\")\n",
    "job_search_button.click()\n",
    "#Potential bug - not able to find element unless i manually inspect  - https://stackoverflow.com/questions/50698342/selenium-cant-find-elements-until-i-inspect-the-page"
   ]
  },
  {
   "cell_type": "code",
   "execution_count": 212,
   "metadata": {},
   "outputs": [
    {
     "name": "stdout",
     "output_type": "stream",
     "text": [
      "You are scraping information about 25 jobs.\n",
      "['https://www.linkedin.com/jobs/search/?currentJobId=2486512434&keywords=Software%20Engineer', 'https://www.linkedin.com/jobs/search/?currentJobId=2486245189&keywords=Software%20Engineer', 'https://www.linkedin.com/jobs/search/?currentJobId=2485558133&keywords=Software%20Engineer', 'https://www.linkedin.com/jobs/search/?currentJobId=2473948505&keywords=Software%20Engineer', 'https://www.linkedin.com/jobs/search/?currentJobId=2479908835&keywords=Software%20Engineer', 'https://www.linkedin.com/jobs/search/?currentJobId=2489828973&keywords=Software%20Engineer', 'https://www.linkedin.com/jobs/search/?currentJobId=2488396947&keywords=Software%20Engineer', 'https://www.linkedin.com/jobs/search/?currentJobId=2473694942&keywords=Software%20Engineer', 'https://www.linkedin.com/jobs/search/?currentJobId=2485187262&keywords=Software%20Engineer', 'https://www.linkedin.com/jobs/search/?currentJobId=2473932077&keywords=Software%20Engineer', 'https://www.linkedin.com/jobs/search/?currentJobId=2488389987&keywords=Software%20Engineer', 'https://www.linkedin.com/jobs/search/?currentJobId=2503748391&keywords=Software%20Engineer', 'https://www.linkedin.com/jobs/search/?currentJobId=2482229352&keywords=Software%20Engineer', 'https://www.linkedin.com/jobs/search/?currentJobId=2479707838&keywords=Software%20Engineer', 'https://www.linkedin.com/jobs/search/?currentJobId=2502454326&keywords=Software%20Engineer', 'https://www.linkedin.com/jobs/search/?currentJobId=2488355180&keywords=Software%20Engineer', 'https://www.linkedin.com/jobs/search/?currentJobId=2489855644&keywords=Software%20Engineer', 'https://www.linkedin.com/jobs/search/?currentJobId=2507696627&keywords=Software%20Engineer', 'https://www.linkedin.com/jobs/search/?currentJobId=2504321349&keywords=Software%20Engineer', 'https://www.linkedin.com/jobs/search/?currentJobId=2508769254&keywords=Software%20Engineer', 'https://www.linkedin.com/jobs/search/?currentJobId=2489831593&keywords=Software%20Engineer', 'https://www.linkedin.com/jobs/search/?currentJobId=2481466899&keywords=Software%20Engineer', 'https://www.linkedin.com/jobs/search/?currentJobId=2507651337&keywords=Software%20Engineer', 'https://www.linkedin.com/jobs/search/?currentJobId=2504184136&keywords=Software%20Engineer', 'https://www.linkedin.com/jobs/search/?currentJobId=2488398264&keywords=Software%20Engineer', 'https://www.linkedin.com/jobs/search/?currentJobId=2486512434&keywords=software%20engineer&start=50', 'https://www.linkedin.com/jobs/search/?currentJobId=2486245189&keywords=software%20engineer&start=50', 'https://www.linkedin.com/jobs/search/?currentJobId=2485558133&keywords=software%20engineer&start=50', 'https://www.linkedin.com/jobs/search/?currentJobId=2473948505&keywords=software%20engineer&start=50', 'https://www.linkedin.com/jobs/search/?currentJobId=2479908835&keywords=software%20engineer&start=50', 'https://www.linkedin.com/jobs/search/?currentJobId=2489828973&keywords=software%20engineer&start=50', 'https://www.linkedin.com/jobs/search/?currentJobId=2488396947&keywords=software%20engineer&start=50', 'https://www.linkedin.com/jobs/search/?currentJobId=2473694942&keywords=software%20engineer&start=50', 'https://www.linkedin.com/jobs/search/?currentJobId=2485187262&keywords=software%20engineer&start=50', 'https://www.linkedin.com/jobs/search/?currentJobId=2473932077&keywords=software%20engineer&start=50', 'https://www.linkedin.com/jobs/search/?currentJobId=2488389987&keywords=software%20engineer&start=50', 'https://www.linkedin.com/jobs/search/?currentJobId=2503748391&keywords=software%20engineer&start=50', 'https://www.linkedin.com/jobs/search/?currentJobId=2482229352&keywords=software%20engineer&start=50', 'https://www.linkedin.com/jobs/search/?currentJobId=2479707838&keywords=software%20engineer&start=50', 'https://www.linkedin.com/jobs/search/?currentJobId=2502454326&keywords=software%20engineer&start=50', 'https://www.linkedin.com/jobs/search/?currentJobId=2488355180&keywords=software%20engineer&start=50', 'https://www.linkedin.com/jobs/search/?currentJobId=2489855644&keywords=software%20engineer&start=50', 'https://www.linkedin.com/jobs/search/?currentJobId=2507696627&keywords=software%20engineer&start=50', 'https://www.linkedin.com/jobs/search/?currentJobId=2504321349&keywords=software%20engineer&start=50', 'https://www.linkedin.com/jobs/search/?currentJobId=2508769254&keywords=software%20engineer&start=50', 'https://www.linkedin.com/jobs/search/?currentJobId=2489831593&keywords=software%20engineer&start=50', 'https://www.linkedin.com/jobs/search/?currentJobId=2481466899&keywords=software%20engineer&start=50', 'https://www.linkedin.com/jobs/search/?currentJobId=2507651337&keywords=software%20engineer&start=50', 'https://www.linkedin.com/jobs/search/?currentJobId=2504184136&keywords=software%20engineer&start=50', 'https://www.linkedin.com/jobs/search/?currentJobId=2488398264&keywords=software%20engineer&start=50', 'https://www.linkedin.com/jobs/search/?currentJobId=2504541844&keywords=software%20engineer&start=50', 'https://www.linkedin.com/jobs/search/?currentJobId=2482860227&keywords=software%20engineer&start=50', 'https://www.linkedin.com/jobs/search/?currentJobId=2487431533&keywords=software%20engineer&start=50', 'https://www.linkedin.com/jobs/search/?currentJobId=2488345781&keywords=software%20engineer&start=50', 'https://www.linkedin.com/jobs/search/?currentJobId=2485146163&keywords=software%20engineer&start=50', 'https://www.linkedin.com/jobs/search/?currentJobId=2505137753&keywords=software%20engineer&start=50', 'https://www.linkedin.com/jobs/search/?currentJobId=2478371050&keywords=software%20engineer&start=50', 'https://www.linkedin.com/jobs/search/?currentJobId=2507569017&keywords=software%20engineer&start=50', 'https://www.linkedin.com/jobs/search/?currentJobId=2485154577&keywords=software%20engineer&start=50', 'https://www.linkedin.com/jobs/search/?currentJobId=2487458972&keywords=software%20engineer&start=50', 'https://www.linkedin.com/jobs/search/?currentJobId=2479776965&keywords=software%20engineer&start=50', 'https://www.linkedin.com/jobs/search/?currentJobId=2505930813&keywords=software%20engineer&start=50', 'https://www.linkedin.com/jobs/search/?currentJobId=2487428869&keywords=software%20engineer&start=50', 'https://www.linkedin.com/jobs/search/?currentJobId=2482286410&keywords=software%20engineer&start=50', 'https://www.linkedin.com/jobs/search/?currentJobId=2482218586&keywords=software%20engineer&start=50', 'https://www.linkedin.com/jobs/search/?currentJobId=2485536426&keywords=software%20engineer&start=50', 'https://www.linkedin.com/jobs/search/?currentJobId=2505140003&keywords=software%20engineer&start=50', 'https://www.linkedin.com/jobs/search/?currentJobId=2488376357&keywords=software%20engineer&start=50', 'https://www.linkedin.com/jobs/search/?currentJobId=2505953595&keywords=software%20engineer&start=50', 'https://www.linkedin.com/jobs/search/?currentJobId=2488382563&keywords=software%20engineer&start=50', 'https://www.linkedin.com/jobs/search/?currentJobId=2503221455&keywords=software%20engineer&start=50', 'https://www.linkedin.com/jobs/search/?currentJobId=2506959833&keywords=software%20engineer&start=50', 'https://www.linkedin.com/jobs/search/?currentJobId=2504962530&keywords=software%20engineer&start=50', 'https://www.linkedin.com/jobs/search/?currentJobId=2485125130&keywords=software%20engineer&start=50', 'https://www.linkedin.com/jobs/search/?currentJobId=2507583634&keywords=software%20engineer&start=50', 'https://www.linkedin.com/jobs/search/?currentJobId=2504541844&keywords=software%20engineer&start=50', 'https://www.linkedin.com/jobs/search/?currentJobId=2482860227&keywords=software%20engineer&start=50', 'https://www.linkedin.com/jobs/search/?currentJobId=2487431533&keywords=software%20engineer&start=50', 'https://www.linkedin.com/jobs/search/?currentJobId=2488345781&keywords=software%20engineer&start=50', 'https://www.linkedin.com/jobs/search/?currentJobId=2485146163&keywords=software%20engineer&start=50', 'https://www.linkedin.com/jobs/search/?currentJobId=2505137753&keywords=software%20engineer&start=50', 'https://www.linkedin.com/jobs/search/?currentJobId=2478371050&keywords=software%20engineer&start=50', 'https://www.linkedin.com/jobs/search/?currentJobId=2507569017&keywords=software%20engineer&start=50', 'https://www.linkedin.com/jobs/search/?currentJobId=2485154577&keywords=software%20engineer&start=50', 'https://www.linkedin.com/jobs/search/?currentJobId=2487458972&keywords=software%20engineer&start=50', 'https://www.linkedin.com/jobs/search/?currentJobId=2479776965&keywords=software%20engineer&start=50', 'https://www.linkedin.com/jobs/search/?currentJobId=2505930813&keywords=software%20engineer&start=50', 'https://www.linkedin.com/jobs/search/?currentJobId=2487428869&keywords=software%20engineer&start=50', 'https://www.linkedin.com/jobs/search/?currentJobId=2482286410&keywords=software%20engineer&start=50', 'https://www.linkedin.com/jobs/search/?currentJobId=2482218586&keywords=software%20engineer&start=50', 'https://www.linkedin.com/jobs/search/?currentJobId=2485536426&keywords=software%20engineer&start=50', 'https://www.linkedin.com/jobs/search/?currentJobId=2505140003&keywords=software%20engineer&start=50', 'https://www.linkedin.com/jobs/search/?currentJobId=2488376357&keywords=software%20engineer&start=50', 'https://www.linkedin.com/jobs/search/?currentJobId=2505953595&keywords=software%20engineer&start=50', 'https://www.linkedin.com/jobs/search/?currentJobId=2488382563&keywords=software%20engineer&start=50', 'https://www.linkedin.com/jobs/search/?currentJobId=2503221455&keywords=software%20engineer&start=50', 'https://www.linkedin.com/jobs/search/?currentJobId=2506959833&keywords=software%20engineer&start=50', 'https://www.linkedin.com/jobs/search/?currentJobId=2504962530&keywords=software%20engineer&start=50', 'https://www.linkedin.com/jobs/search/?currentJobId=2485125130&keywords=software%20engineer&start=50', 'https://www.linkedin.com/jobs/search/?currentJobId=2507583634&keywords=software%20engineer&start=50']\n",
      "100\n"
     ]
    },
    {
     "name": "stdout",
     "output_type": "stream",
     "text": [
      "ember1030\n",
      "You are scraping information about 25 jobs.\n",
      "['https://www.linkedin.com/jobs/search/?currentJobId=2486512434&keywords=Software%20Engineer', 'https://www.linkedin.com/jobs/search/?currentJobId=2486245189&keywords=Software%20Engineer', 'https://www.linkedin.com/jobs/search/?currentJobId=2485558133&keywords=Software%20Engineer', 'https://www.linkedin.com/jobs/search/?currentJobId=2473948505&keywords=Software%20Engineer', 'https://www.linkedin.com/jobs/search/?currentJobId=2479908835&keywords=Software%20Engineer', 'https://www.linkedin.com/jobs/search/?currentJobId=2489828973&keywords=Software%20Engineer', 'https://www.linkedin.com/jobs/search/?currentJobId=2488396947&keywords=Software%20Engineer', 'https://www.linkedin.com/jobs/search/?currentJobId=2473694942&keywords=Software%20Engineer', 'https://www.linkedin.com/jobs/search/?currentJobId=2485187262&keywords=Software%20Engineer', 'https://www.linkedin.com/jobs/search/?currentJobId=2473932077&keywords=Software%20Engineer', 'https://www.linkedin.com/jobs/search/?currentJobId=2488389987&keywords=Software%20Engineer', 'https://www.linkedin.com/jobs/search/?currentJobId=2503748391&keywords=Software%20Engineer', 'https://www.linkedin.com/jobs/search/?currentJobId=2482229352&keywords=Software%20Engineer', 'https://www.linkedin.com/jobs/search/?currentJobId=2479707838&keywords=Software%20Engineer', 'https://www.linkedin.com/jobs/search/?currentJobId=2502454326&keywords=Software%20Engineer', 'https://www.linkedin.com/jobs/search/?currentJobId=2488355180&keywords=Software%20Engineer', 'https://www.linkedin.com/jobs/search/?currentJobId=2489855644&keywords=Software%20Engineer', 'https://www.linkedin.com/jobs/search/?currentJobId=2507696627&keywords=Software%20Engineer', 'https://www.linkedin.com/jobs/search/?currentJobId=2504321349&keywords=Software%20Engineer', 'https://www.linkedin.com/jobs/search/?currentJobId=2508769254&keywords=Software%20Engineer', 'https://www.linkedin.com/jobs/search/?currentJobId=2489831593&keywords=Software%20Engineer', 'https://www.linkedin.com/jobs/search/?currentJobId=2481466899&keywords=Software%20Engineer', 'https://www.linkedin.com/jobs/search/?currentJobId=2507651337&keywords=Software%20Engineer', 'https://www.linkedin.com/jobs/search/?currentJobId=2504184136&keywords=Software%20Engineer', 'https://www.linkedin.com/jobs/search/?currentJobId=2488398264&keywords=Software%20Engineer', 'https://www.linkedin.com/jobs/search/?currentJobId=2486512434&keywords=software%20engineer&start=50', 'https://www.linkedin.com/jobs/search/?currentJobId=2486245189&keywords=software%20engineer&start=50', 'https://www.linkedin.com/jobs/search/?currentJobId=2485558133&keywords=software%20engineer&start=50', 'https://www.linkedin.com/jobs/search/?currentJobId=2473948505&keywords=software%20engineer&start=50', 'https://www.linkedin.com/jobs/search/?currentJobId=2479908835&keywords=software%20engineer&start=50', 'https://www.linkedin.com/jobs/search/?currentJobId=2489828973&keywords=software%20engineer&start=50', 'https://www.linkedin.com/jobs/search/?currentJobId=2488396947&keywords=software%20engineer&start=50', 'https://www.linkedin.com/jobs/search/?currentJobId=2473694942&keywords=software%20engineer&start=50', 'https://www.linkedin.com/jobs/search/?currentJobId=2485187262&keywords=software%20engineer&start=50', 'https://www.linkedin.com/jobs/search/?currentJobId=2473932077&keywords=software%20engineer&start=50', 'https://www.linkedin.com/jobs/search/?currentJobId=2488389987&keywords=software%20engineer&start=50', 'https://www.linkedin.com/jobs/search/?currentJobId=2503748391&keywords=software%20engineer&start=50', 'https://www.linkedin.com/jobs/search/?currentJobId=2482229352&keywords=software%20engineer&start=50', 'https://www.linkedin.com/jobs/search/?currentJobId=2479707838&keywords=software%20engineer&start=50', 'https://www.linkedin.com/jobs/search/?currentJobId=2502454326&keywords=software%20engineer&start=50', 'https://www.linkedin.com/jobs/search/?currentJobId=2488355180&keywords=software%20engineer&start=50', 'https://www.linkedin.com/jobs/search/?currentJobId=2489855644&keywords=software%20engineer&start=50', 'https://www.linkedin.com/jobs/search/?currentJobId=2507696627&keywords=software%20engineer&start=50', 'https://www.linkedin.com/jobs/search/?currentJobId=2504321349&keywords=software%20engineer&start=50', 'https://www.linkedin.com/jobs/search/?currentJobId=2508769254&keywords=software%20engineer&start=50', 'https://www.linkedin.com/jobs/search/?currentJobId=2489831593&keywords=software%20engineer&start=50', 'https://www.linkedin.com/jobs/search/?currentJobId=2481466899&keywords=software%20engineer&start=50', 'https://www.linkedin.com/jobs/search/?currentJobId=2507651337&keywords=software%20engineer&start=50', 'https://www.linkedin.com/jobs/search/?currentJobId=2504184136&keywords=software%20engineer&start=50', 'https://www.linkedin.com/jobs/search/?currentJobId=2488398264&keywords=software%20engineer&start=50', 'https://www.linkedin.com/jobs/search/?currentJobId=2504541844&keywords=software%20engineer&start=50', 'https://www.linkedin.com/jobs/search/?currentJobId=2482860227&keywords=software%20engineer&start=50', 'https://www.linkedin.com/jobs/search/?currentJobId=2487431533&keywords=software%20engineer&start=50', 'https://www.linkedin.com/jobs/search/?currentJobId=2488345781&keywords=software%20engineer&start=50', 'https://www.linkedin.com/jobs/search/?currentJobId=2485146163&keywords=software%20engineer&start=50', 'https://www.linkedin.com/jobs/search/?currentJobId=2505137753&keywords=software%20engineer&start=50', 'https://www.linkedin.com/jobs/search/?currentJobId=2478371050&keywords=software%20engineer&start=50', 'https://www.linkedin.com/jobs/search/?currentJobId=2507569017&keywords=software%20engineer&start=50', 'https://www.linkedin.com/jobs/search/?currentJobId=2485154577&keywords=software%20engineer&start=50', 'https://www.linkedin.com/jobs/search/?currentJobId=2487458972&keywords=software%20engineer&start=50', 'https://www.linkedin.com/jobs/search/?currentJobId=2479776965&keywords=software%20engineer&start=50', 'https://www.linkedin.com/jobs/search/?currentJobId=2505930813&keywords=software%20engineer&start=50', 'https://www.linkedin.com/jobs/search/?currentJobId=2487428869&keywords=software%20engineer&start=50', 'https://www.linkedin.com/jobs/search/?currentJobId=2482286410&keywords=software%20engineer&start=50', 'https://www.linkedin.com/jobs/search/?currentJobId=2482218586&keywords=software%20engineer&start=50', 'https://www.linkedin.com/jobs/search/?currentJobId=2485536426&keywords=software%20engineer&start=50', 'https://www.linkedin.com/jobs/search/?currentJobId=2505140003&keywords=software%20engineer&start=50', 'https://www.linkedin.com/jobs/search/?currentJobId=2488376357&keywords=software%20engineer&start=50', 'https://www.linkedin.com/jobs/search/?currentJobId=2505953595&keywords=software%20engineer&start=50', 'https://www.linkedin.com/jobs/search/?currentJobId=2488382563&keywords=software%20engineer&start=50', 'https://www.linkedin.com/jobs/search/?currentJobId=2503221455&keywords=software%20engineer&start=50', 'https://www.linkedin.com/jobs/search/?currentJobId=2506959833&keywords=software%20engineer&start=50', 'https://www.linkedin.com/jobs/search/?currentJobId=2504962530&keywords=software%20engineer&start=50', 'https://www.linkedin.com/jobs/search/?currentJobId=2485125130&keywords=software%20engineer&start=50', 'https://www.linkedin.com/jobs/search/?currentJobId=2507583634&keywords=software%20engineer&start=50', 'https://www.linkedin.com/jobs/search/?currentJobId=2504541844&keywords=software%20engineer&start=50', 'https://www.linkedin.com/jobs/search/?currentJobId=2482860227&keywords=software%20engineer&start=50', 'https://www.linkedin.com/jobs/search/?currentJobId=2487431533&keywords=software%20engineer&start=50', 'https://www.linkedin.com/jobs/search/?currentJobId=2488345781&keywords=software%20engineer&start=50', 'https://www.linkedin.com/jobs/search/?currentJobId=2485146163&keywords=software%20engineer&start=50', 'https://www.linkedin.com/jobs/search/?currentJobId=2505137753&keywords=software%20engineer&start=50', 'https://www.linkedin.com/jobs/search/?currentJobId=2478371050&keywords=software%20engineer&start=50', 'https://www.linkedin.com/jobs/search/?currentJobId=2507569017&keywords=software%20engineer&start=50', 'https://www.linkedin.com/jobs/search/?currentJobId=2485154577&keywords=software%20engineer&start=50', 'https://www.linkedin.com/jobs/search/?currentJobId=2487458972&keywords=software%20engineer&start=50', 'https://www.linkedin.com/jobs/search/?currentJobId=2479776965&keywords=software%20engineer&start=50', 'https://www.linkedin.com/jobs/search/?currentJobId=2505930813&keywords=software%20engineer&start=50', 'https://www.linkedin.com/jobs/search/?currentJobId=2487428869&keywords=software%20engineer&start=50', 'https://www.linkedin.com/jobs/search/?currentJobId=2482286410&keywords=software%20engineer&start=50', 'https://www.linkedin.com/jobs/search/?currentJobId=2482218586&keywords=software%20engineer&start=50', 'https://www.linkedin.com/jobs/search/?currentJobId=2485536426&keywords=software%20engineer&start=50', 'https://www.linkedin.com/jobs/search/?currentJobId=2505140003&keywords=software%20engineer&start=50', 'https://www.linkedin.com/jobs/search/?currentJobId=2488376357&keywords=software%20engineer&start=50', 'https://www.linkedin.com/jobs/search/?currentJobId=2505953595&keywords=software%20engineer&start=50', 'https://www.linkedin.com/jobs/search/?currentJobId=2488382563&keywords=software%20engineer&start=50', 'https://www.linkedin.com/jobs/search/?currentJobId=2503221455&keywords=software%20engineer&start=50', 'https://www.linkedin.com/jobs/search/?currentJobId=2506959833&keywords=software%20engineer&start=50', 'https://www.linkedin.com/jobs/search/?currentJobId=2504962530&keywords=software%20engineer&start=50', 'https://www.linkedin.com/jobs/search/?currentJobId=2485125130&keywords=software%20engineer&start=50', 'https://www.linkedin.com/jobs/search/?currentJobId=2507583634&keywords=software%20engineer&start=50']\n",
      "100\n"
     ]
    },
    {
     "name": "stdout",
     "output_type": "stream",
     "text": [
      "ember1030\n",
      "You are scraping information about 25 jobs.\n",
      "['https://www.linkedin.com/jobs/search/?currentJobId=2486512434&keywords=Software%20Engineer', 'https://www.linkedin.com/jobs/search/?currentJobId=2486245189&keywords=Software%20Engineer', 'https://www.linkedin.com/jobs/search/?currentJobId=2485558133&keywords=Software%20Engineer', 'https://www.linkedin.com/jobs/search/?currentJobId=2473948505&keywords=Software%20Engineer', 'https://www.linkedin.com/jobs/search/?currentJobId=2479908835&keywords=Software%20Engineer', 'https://www.linkedin.com/jobs/search/?currentJobId=2489828973&keywords=Software%20Engineer', 'https://www.linkedin.com/jobs/search/?currentJobId=2488396947&keywords=Software%20Engineer', 'https://www.linkedin.com/jobs/search/?currentJobId=2473694942&keywords=Software%20Engineer', 'https://www.linkedin.com/jobs/search/?currentJobId=2485187262&keywords=Software%20Engineer', 'https://www.linkedin.com/jobs/search/?currentJobId=2473932077&keywords=Software%20Engineer', 'https://www.linkedin.com/jobs/search/?currentJobId=2488389987&keywords=Software%20Engineer', 'https://www.linkedin.com/jobs/search/?currentJobId=2503748391&keywords=Software%20Engineer', 'https://www.linkedin.com/jobs/search/?currentJobId=2482229352&keywords=Software%20Engineer', 'https://www.linkedin.com/jobs/search/?currentJobId=2479707838&keywords=Software%20Engineer', 'https://www.linkedin.com/jobs/search/?currentJobId=2502454326&keywords=Software%20Engineer', 'https://www.linkedin.com/jobs/search/?currentJobId=2488355180&keywords=Software%20Engineer', 'https://www.linkedin.com/jobs/search/?currentJobId=2489855644&keywords=Software%20Engineer', 'https://www.linkedin.com/jobs/search/?currentJobId=2507696627&keywords=Software%20Engineer', 'https://www.linkedin.com/jobs/search/?currentJobId=2504321349&keywords=Software%20Engineer', 'https://www.linkedin.com/jobs/search/?currentJobId=2508769254&keywords=Software%20Engineer', 'https://www.linkedin.com/jobs/search/?currentJobId=2489831593&keywords=Software%20Engineer', 'https://www.linkedin.com/jobs/search/?currentJobId=2481466899&keywords=Software%20Engineer', 'https://www.linkedin.com/jobs/search/?currentJobId=2507651337&keywords=Software%20Engineer', 'https://www.linkedin.com/jobs/search/?currentJobId=2504184136&keywords=Software%20Engineer', 'https://www.linkedin.com/jobs/search/?currentJobId=2488398264&keywords=Software%20Engineer', 'https://www.linkedin.com/jobs/search/?currentJobId=2486512434&keywords=software%20engineer&start=50', 'https://www.linkedin.com/jobs/search/?currentJobId=2486245189&keywords=software%20engineer&start=50', 'https://www.linkedin.com/jobs/search/?currentJobId=2485558133&keywords=software%20engineer&start=50', 'https://www.linkedin.com/jobs/search/?currentJobId=2473948505&keywords=software%20engineer&start=50', 'https://www.linkedin.com/jobs/search/?currentJobId=2479908835&keywords=software%20engineer&start=50', 'https://www.linkedin.com/jobs/search/?currentJobId=2489828973&keywords=software%20engineer&start=50', 'https://www.linkedin.com/jobs/search/?currentJobId=2488396947&keywords=software%20engineer&start=50', 'https://www.linkedin.com/jobs/search/?currentJobId=2473694942&keywords=software%20engineer&start=50', 'https://www.linkedin.com/jobs/search/?currentJobId=2485187262&keywords=software%20engineer&start=50', 'https://www.linkedin.com/jobs/search/?currentJobId=2473932077&keywords=software%20engineer&start=50', 'https://www.linkedin.com/jobs/search/?currentJobId=2488389987&keywords=software%20engineer&start=50', 'https://www.linkedin.com/jobs/search/?currentJobId=2503748391&keywords=software%20engineer&start=50', 'https://www.linkedin.com/jobs/search/?currentJobId=2482229352&keywords=software%20engineer&start=50', 'https://www.linkedin.com/jobs/search/?currentJobId=2479707838&keywords=software%20engineer&start=50', 'https://www.linkedin.com/jobs/search/?currentJobId=2502454326&keywords=software%20engineer&start=50', 'https://www.linkedin.com/jobs/search/?currentJobId=2488355180&keywords=software%20engineer&start=50', 'https://www.linkedin.com/jobs/search/?currentJobId=2489855644&keywords=software%20engineer&start=50', 'https://www.linkedin.com/jobs/search/?currentJobId=2507696627&keywords=software%20engineer&start=50', 'https://www.linkedin.com/jobs/search/?currentJobId=2504321349&keywords=software%20engineer&start=50', 'https://www.linkedin.com/jobs/search/?currentJobId=2508769254&keywords=software%20engineer&start=50', 'https://www.linkedin.com/jobs/search/?currentJobId=2489831593&keywords=software%20engineer&start=50', 'https://www.linkedin.com/jobs/search/?currentJobId=2481466899&keywords=software%20engineer&start=50', 'https://www.linkedin.com/jobs/search/?currentJobId=2507651337&keywords=software%20engineer&start=50', 'https://www.linkedin.com/jobs/search/?currentJobId=2504184136&keywords=software%20engineer&start=50', 'https://www.linkedin.com/jobs/search/?currentJobId=2488398264&keywords=software%20engineer&start=50', 'https://www.linkedin.com/jobs/search/?currentJobId=2504541844&keywords=software%20engineer&start=50', 'https://www.linkedin.com/jobs/search/?currentJobId=2482860227&keywords=software%20engineer&start=50', 'https://www.linkedin.com/jobs/search/?currentJobId=2487431533&keywords=software%20engineer&start=50', 'https://www.linkedin.com/jobs/search/?currentJobId=2488345781&keywords=software%20engineer&start=50', 'https://www.linkedin.com/jobs/search/?currentJobId=2485146163&keywords=software%20engineer&start=50', 'https://www.linkedin.com/jobs/search/?currentJobId=2505137753&keywords=software%20engineer&start=50', 'https://www.linkedin.com/jobs/search/?currentJobId=2478371050&keywords=software%20engineer&start=50', 'https://www.linkedin.com/jobs/search/?currentJobId=2507569017&keywords=software%20engineer&start=50', 'https://www.linkedin.com/jobs/search/?currentJobId=2485154577&keywords=software%20engineer&start=50', 'https://www.linkedin.com/jobs/search/?currentJobId=2487458972&keywords=software%20engineer&start=50', 'https://www.linkedin.com/jobs/search/?currentJobId=2479776965&keywords=software%20engineer&start=50', 'https://www.linkedin.com/jobs/search/?currentJobId=2505930813&keywords=software%20engineer&start=50', 'https://www.linkedin.com/jobs/search/?currentJobId=2487428869&keywords=software%20engineer&start=50', 'https://www.linkedin.com/jobs/search/?currentJobId=2482286410&keywords=software%20engineer&start=50', 'https://www.linkedin.com/jobs/search/?currentJobId=2482218586&keywords=software%20engineer&start=50', 'https://www.linkedin.com/jobs/search/?currentJobId=2485536426&keywords=software%20engineer&start=50', 'https://www.linkedin.com/jobs/search/?currentJobId=2505140003&keywords=software%20engineer&start=50', 'https://www.linkedin.com/jobs/search/?currentJobId=2488376357&keywords=software%20engineer&start=50', 'https://www.linkedin.com/jobs/search/?currentJobId=2505953595&keywords=software%20engineer&start=50', 'https://www.linkedin.com/jobs/search/?currentJobId=2488382563&keywords=software%20engineer&start=50', 'https://www.linkedin.com/jobs/search/?currentJobId=2503221455&keywords=software%20engineer&start=50', 'https://www.linkedin.com/jobs/search/?currentJobId=2506959833&keywords=software%20engineer&start=50', 'https://www.linkedin.com/jobs/search/?currentJobId=2504962530&keywords=software%20engineer&start=50', 'https://www.linkedin.com/jobs/search/?currentJobId=2485125130&keywords=software%20engineer&start=50', 'https://www.linkedin.com/jobs/search/?currentJobId=2507583634&keywords=software%20engineer&start=50', 'https://www.linkedin.com/jobs/search/?currentJobId=2504541844&keywords=software%20engineer&start=50', 'https://www.linkedin.com/jobs/search/?currentJobId=2482860227&keywords=software%20engineer&start=50', 'https://www.linkedin.com/jobs/search/?currentJobId=2487431533&keywords=software%20engineer&start=50', 'https://www.linkedin.com/jobs/search/?currentJobId=2488345781&keywords=software%20engineer&start=50', 'https://www.linkedin.com/jobs/search/?currentJobId=2485146163&keywords=software%20engineer&start=50', 'https://www.linkedin.com/jobs/search/?currentJobId=2505137753&keywords=software%20engineer&start=50', 'https://www.linkedin.com/jobs/search/?currentJobId=2478371050&keywords=software%20engineer&start=50', 'https://www.linkedin.com/jobs/search/?currentJobId=2507569017&keywords=software%20engineer&start=50', 'https://www.linkedin.com/jobs/search/?currentJobId=2485154577&keywords=software%20engineer&start=50', 'https://www.linkedin.com/jobs/search/?currentJobId=2487458972&keywords=software%20engineer&start=50', 'https://www.linkedin.com/jobs/search/?currentJobId=2479776965&keywords=software%20engineer&start=50', 'https://www.linkedin.com/jobs/search/?currentJobId=2505930813&keywords=software%20engineer&start=50', 'https://www.linkedin.com/jobs/search/?currentJobId=2487428869&keywords=software%20engineer&start=50', 'https://www.linkedin.com/jobs/search/?currentJobId=2482286410&keywords=software%20engineer&start=50', 'https://www.linkedin.com/jobs/search/?currentJobId=2482218586&keywords=software%20engineer&start=50', 'https://www.linkedin.com/jobs/search/?currentJobId=2485536426&keywords=software%20engineer&start=50', 'https://www.linkedin.com/jobs/search/?currentJobId=2505140003&keywords=software%20engineer&start=50', 'https://www.linkedin.com/jobs/search/?currentJobId=2488376357&keywords=software%20engineer&start=50', 'https://www.linkedin.com/jobs/search/?currentJobId=2505953595&keywords=software%20engineer&start=50', 'https://www.linkedin.com/jobs/search/?currentJobId=2488382563&keywords=software%20engineer&start=50', 'https://www.linkedin.com/jobs/search/?currentJobId=2503221455&keywords=software%20engineer&start=50', 'https://www.linkedin.com/jobs/search/?currentJobId=2506959833&keywords=software%20engineer&start=50', 'https://www.linkedin.com/jobs/search/?currentJobId=2504962530&keywords=software%20engineer&start=50', 'https://www.linkedin.com/jobs/search/?currentJobId=2485125130&keywords=software%20engineer&start=50', 'https://www.linkedin.com/jobs/search/?currentJobId=2507583634&keywords=software%20engineer&start=50']\n",
      "100\n",
      "ember1030\n"
     ]
    },
    {
     "name": "stdout",
     "output_type": "stream",
     "text": [
      "You are scraping information about 25 jobs.\n",
      "['https://www.linkedin.com/jobs/search/?currentJobId=2486512434&keywords=Software%20Engineer', 'https://www.linkedin.com/jobs/search/?currentJobId=2486245189&keywords=Software%20Engineer', 'https://www.linkedin.com/jobs/search/?currentJobId=2485558133&keywords=Software%20Engineer', 'https://www.linkedin.com/jobs/search/?currentJobId=2473948505&keywords=Software%20Engineer', 'https://www.linkedin.com/jobs/search/?currentJobId=2479908835&keywords=Software%20Engineer', 'https://www.linkedin.com/jobs/search/?currentJobId=2489828973&keywords=Software%20Engineer', 'https://www.linkedin.com/jobs/search/?currentJobId=2488396947&keywords=Software%20Engineer', 'https://www.linkedin.com/jobs/search/?currentJobId=2473694942&keywords=Software%20Engineer', 'https://www.linkedin.com/jobs/search/?currentJobId=2485187262&keywords=Software%20Engineer', 'https://www.linkedin.com/jobs/search/?currentJobId=2473932077&keywords=Software%20Engineer', 'https://www.linkedin.com/jobs/search/?currentJobId=2488389987&keywords=Software%20Engineer', 'https://www.linkedin.com/jobs/search/?currentJobId=2503748391&keywords=Software%20Engineer', 'https://www.linkedin.com/jobs/search/?currentJobId=2482229352&keywords=Software%20Engineer', 'https://www.linkedin.com/jobs/search/?currentJobId=2479707838&keywords=Software%20Engineer', 'https://www.linkedin.com/jobs/search/?currentJobId=2502454326&keywords=Software%20Engineer', 'https://www.linkedin.com/jobs/search/?currentJobId=2488355180&keywords=Software%20Engineer', 'https://www.linkedin.com/jobs/search/?currentJobId=2489855644&keywords=Software%20Engineer', 'https://www.linkedin.com/jobs/search/?currentJobId=2507696627&keywords=Software%20Engineer', 'https://www.linkedin.com/jobs/search/?currentJobId=2504321349&keywords=Software%20Engineer', 'https://www.linkedin.com/jobs/search/?currentJobId=2508769254&keywords=Software%20Engineer', 'https://www.linkedin.com/jobs/search/?currentJobId=2489831593&keywords=Software%20Engineer', 'https://www.linkedin.com/jobs/search/?currentJobId=2481466899&keywords=Software%20Engineer', 'https://www.linkedin.com/jobs/search/?currentJobId=2507651337&keywords=Software%20Engineer', 'https://www.linkedin.com/jobs/search/?currentJobId=2504184136&keywords=Software%20Engineer', 'https://www.linkedin.com/jobs/search/?currentJobId=2488398264&keywords=Software%20Engineer', 'https://www.linkedin.com/jobs/search/?currentJobId=2486512434&keywords=software%20engineer&start=50', 'https://www.linkedin.com/jobs/search/?currentJobId=2486245189&keywords=software%20engineer&start=50', 'https://www.linkedin.com/jobs/search/?currentJobId=2485558133&keywords=software%20engineer&start=50', 'https://www.linkedin.com/jobs/search/?currentJobId=2473948505&keywords=software%20engineer&start=50', 'https://www.linkedin.com/jobs/search/?currentJobId=2479908835&keywords=software%20engineer&start=50', 'https://www.linkedin.com/jobs/search/?currentJobId=2489828973&keywords=software%20engineer&start=50', 'https://www.linkedin.com/jobs/search/?currentJobId=2488396947&keywords=software%20engineer&start=50', 'https://www.linkedin.com/jobs/search/?currentJobId=2473694942&keywords=software%20engineer&start=50', 'https://www.linkedin.com/jobs/search/?currentJobId=2485187262&keywords=software%20engineer&start=50', 'https://www.linkedin.com/jobs/search/?currentJobId=2473932077&keywords=software%20engineer&start=50', 'https://www.linkedin.com/jobs/search/?currentJobId=2488389987&keywords=software%20engineer&start=50', 'https://www.linkedin.com/jobs/search/?currentJobId=2503748391&keywords=software%20engineer&start=50', 'https://www.linkedin.com/jobs/search/?currentJobId=2482229352&keywords=software%20engineer&start=50', 'https://www.linkedin.com/jobs/search/?currentJobId=2479707838&keywords=software%20engineer&start=50', 'https://www.linkedin.com/jobs/search/?currentJobId=2502454326&keywords=software%20engineer&start=50', 'https://www.linkedin.com/jobs/search/?currentJobId=2488355180&keywords=software%20engineer&start=50', 'https://www.linkedin.com/jobs/search/?currentJobId=2489855644&keywords=software%20engineer&start=50', 'https://www.linkedin.com/jobs/search/?currentJobId=2507696627&keywords=software%20engineer&start=50', 'https://www.linkedin.com/jobs/search/?currentJobId=2504321349&keywords=software%20engineer&start=50', 'https://www.linkedin.com/jobs/search/?currentJobId=2508769254&keywords=software%20engineer&start=50', 'https://www.linkedin.com/jobs/search/?currentJobId=2489831593&keywords=software%20engineer&start=50', 'https://www.linkedin.com/jobs/search/?currentJobId=2481466899&keywords=software%20engineer&start=50', 'https://www.linkedin.com/jobs/search/?currentJobId=2507651337&keywords=software%20engineer&start=50', 'https://www.linkedin.com/jobs/search/?currentJobId=2504184136&keywords=software%20engineer&start=50', 'https://www.linkedin.com/jobs/search/?currentJobId=2488398264&keywords=software%20engineer&start=50', 'https://www.linkedin.com/jobs/search/?currentJobId=2504541844&keywords=software%20engineer&start=50', 'https://www.linkedin.com/jobs/search/?currentJobId=2482860227&keywords=software%20engineer&start=50', 'https://www.linkedin.com/jobs/search/?currentJobId=2487431533&keywords=software%20engineer&start=50', 'https://www.linkedin.com/jobs/search/?currentJobId=2488345781&keywords=software%20engineer&start=50', 'https://www.linkedin.com/jobs/search/?currentJobId=2485146163&keywords=software%20engineer&start=50', 'https://www.linkedin.com/jobs/search/?currentJobId=2505137753&keywords=software%20engineer&start=50', 'https://www.linkedin.com/jobs/search/?currentJobId=2478371050&keywords=software%20engineer&start=50', 'https://www.linkedin.com/jobs/search/?currentJobId=2507569017&keywords=software%20engineer&start=50', 'https://www.linkedin.com/jobs/search/?currentJobId=2485154577&keywords=software%20engineer&start=50', 'https://www.linkedin.com/jobs/search/?currentJobId=2487458972&keywords=software%20engineer&start=50', 'https://www.linkedin.com/jobs/search/?currentJobId=2479776965&keywords=software%20engineer&start=50', 'https://www.linkedin.com/jobs/search/?currentJobId=2505930813&keywords=software%20engineer&start=50', 'https://www.linkedin.com/jobs/search/?currentJobId=2487428869&keywords=software%20engineer&start=50', 'https://www.linkedin.com/jobs/search/?currentJobId=2482286410&keywords=software%20engineer&start=50', 'https://www.linkedin.com/jobs/search/?currentJobId=2482218586&keywords=software%20engineer&start=50', 'https://www.linkedin.com/jobs/search/?currentJobId=2485536426&keywords=software%20engineer&start=50', 'https://www.linkedin.com/jobs/search/?currentJobId=2505140003&keywords=software%20engineer&start=50', 'https://www.linkedin.com/jobs/search/?currentJobId=2488376357&keywords=software%20engineer&start=50', 'https://www.linkedin.com/jobs/search/?currentJobId=2505953595&keywords=software%20engineer&start=50', 'https://www.linkedin.com/jobs/search/?currentJobId=2488382563&keywords=software%20engineer&start=50', 'https://www.linkedin.com/jobs/search/?currentJobId=2503221455&keywords=software%20engineer&start=50', 'https://www.linkedin.com/jobs/search/?currentJobId=2506959833&keywords=software%20engineer&start=50', 'https://www.linkedin.com/jobs/search/?currentJobId=2504962530&keywords=software%20engineer&start=50', 'https://www.linkedin.com/jobs/search/?currentJobId=2485125130&keywords=software%20engineer&start=50', 'https://www.linkedin.com/jobs/search/?currentJobId=2507583634&keywords=software%20engineer&start=50', 'https://www.linkedin.com/jobs/search/?currentJobId=2504541844&keywords=software%20engineer&start=50', 'https://www.linkedin.com/jobs/search/?currentJobId=2482860227&keywords=software%20engineer&start=50', 'https://www.linkedin.com/jobs/search/?currentJobId=2487431533&keywords=software%20engineer&start=50', 'https://www.linkedin.com/jobs/search/?currentJobId=2488345781&keywords=software%20engineer&start=50', 'https://www.linkedin.com/jobs/search/?currentJobId=2485146163&keywords=software%20engineer&start=50', 'https://www.linkedin.com/jobs/search/?currentJobId=2505137753&keywords=software%20engineer&start=50', 'https://www.linkedin.com/jobs/search/?currentJobId=2478371050&keywords=software%20engineer&start=50', 'https://www.linkedin.com/jobs/search/?currentJobId=2507569017&keywords=software%20engineer&start=50', 'https://www.linkedin.com/jobs/search/?currentJobId=2485154577&keywords=software%20engineer&start=50', 'https://www.linkedin.com/jobs/search/?currentJobId=2487458972&keywords=software%20engineer&start=50', 'https://www.linkedin.com/jobs/search/?currentJobId=2479776965&keywords=software%20engineer&start=50', 'https://www.linkedin.com/jobs/search/?currentJobId=2505930813&keywords=software%20engineer&start=50', 'https://www.linkedin.com/jobs/search/?currentJobId=2487428869&keywords=software%20engineer&start=50', 'https://www.linkedin.com/jobs/search/?currentJobId=2482286410&keywords=software%20engineer&start=50', 'https://www.linkedin.com/jobs/search/?currentJobId=2482218586&keywords=software%20engineer&start=50', 'https://www.linkedin.com/jobs/search/?currentJobId=2485536426&keywords=software%20engineer&start=50', 'https://www.linkedin.com/jobs/search/?currentJobId=2505140003&keywords=software%20engineer&start=50', 'https://www.linkedin.com/jobs/search/?currentJobId=2488376357&keywords=software%20engineer&start=50', 'https://www.linkedin.com/jobs/search/?currentJobId=2505953595&keywords=software%20engineer&start=50', 'https://www.linkedin.com/jobs/search/?currentJobId=2488382563&keywords=software%20engineer&start=50', 'https://www.linkedin.com/jobs/search/?currentJobId=2503221455&keywords=software%20engineer&start=50', 'https://www.linkedin.com/jobs/search/?currentJobId=2506959833&keywords=software%20engineer&start=50', 'https://www.linkedin.com/jobs/search/?currentJobId=2504962530&keywords=software%20engineer&start=50', 'https://www.linkedin.com/jobs/search/?currentJobId=2485125130&keywords=software%20engineer&start=50', 'https://www.linkedin.com/jobs/search/?currentJobId=2507583634&keywords=software%20engineer&start=50']\n",
      "100\n",
      "ember1030\n"
     ]
    }
   ],
   "source": [
    "id_list = []\n",
    "# job_links = []\n",
    "\n",
    "pages = 4\n",
    "current = 0\n",
    "while current < pages:\n",
    "    # ------------------ Scraping the Linkedin Job Webpage's left rail (it's a two pane wrapper)\n",
    "     # parsing the visible webpage\n",
    "    pageSource = browser.page_source\n",
    "    time.sleep(2)\n",
    "    lxml_soup = BeautifulSoup(pageSource, 'lxml')\n",
    "    time.sleep(2)\n",
    "    # browser.implicitly_wait(10)\n",
    "    #job_container = lxml_soup.find('ul', class_ = 'jobs-search-results__list')\n",
    "    job_container = lxml_soup.find_all('li', class_ = 'jobs-search-results__list-item')\n",
    "    time.sleep(2)\n",
    "    # element = browser.find_element_by_id(\"ember665\")\n",
    "    # actions = ActionChains(driver)\n",
    "    # actions.move_to_element(element).perform()\n",
    "    # driver.execute_script(\"arguments[0].scrollIntoView();\", element)\n",
    "    # time.sleep(3)\n",
    "    #browser.execute_script(\"window.scrollTo(0, document.body.scrollHeight);\")\n",
    "    #Above doesn't seem to grab the entire html thing\n",
    "\n",
    "    #print(job_container[0])\n",
    "    print('You are scraping information about {} jobs.'.format(len(job_container)))\n",
    "\n",
    "    id_list = []\n",
    "    for job in job_container:\n",
    "        job = str(job)\n",
    "        numbers = re.findall(r'[0-9]+',job)\n",
    "        for i in numbers:\n",
    "            if len(i) == 10: #hardcoding that ID is always 10 digits\n",
    "                id_list.append(i)\n",
    "                break\n",
    "\n",
    "#     print(id_list)\n",
    "#     print(len(id_list))\n",
    "#     for id in id_list: \n",
    "#         currUrl = browser.current_url\n",
    "#         #firstHalf = driver.current_url.index('currentJobId=')+len('currentJobId=')\n",
    "#         firstHalf = browser.current_url.index('?')\n",
    "#         secondHalf = browser.current_url.index('keywords')\n",
    "#     #     jobId = temp.find('a',href=True)['href']\n",
    "#     #     jobId= jobId.split('/')[3]\n",
    "#         newUrl = currUrl[:firstHalf] + '?currentJobId='+id+ '&'+ currUrl[secondHalf:]\n",
    "#         job_links.append(newUrl)\n",
    "\n",
    "#     print(job_links)\n",
    "#     print(len(job_links))\n",
    "    lxml_soup = BeautifulSoup(browser.page_source, 'lxml')\n",
    "    page_buttons = lxml_soup.find_all('li', class_ = 'artdeco-pagination__indicator')\n",
    "    pg_num = 3\n",
    "    pg_id = _\n",
    "    for page_button in page_buttons:\n",
    "        target_button = \"data-test-pagination-page-btn=\\\"\"+str(pg_num)+\"\\\"\"\n",
    "        if str(page_button).find(target_button) >= 0:\n",
    "            id_i= str(page_button).find('id')\n",
    "            #pg_id = str(page_buttons[1])[id_i+4:id_i+13]\n",
    "            pg_id = \"ember\"+re.findall(r'%s(\\d+)' % \"ember\", str(page_button))[0]\n",
    "            print(pg_id)\n",
    "            break\n",
    "\n",
    "    next_button = browser.find_element_by_id(pg_id)\n",
    "    next_button.click()\n",
    "    current+=1\n"
   ]
  },
  {
   "cell_type": "code",
   "execution_count": 211,
   "metadata": {},
   "outputs": [
    {
     "data": {
      "text/plain": [
       "25"
      ]
     },
     "execution_count": 211,
     "metadata": {},
     "output_type": "execute_result"
    }
   ],
   "source": [
    "len(id_list)"
   ]
  },
  {
   "cell_type": "code",
   "execution_count": 178,
   "metadata": {
    "scrolled": true
   },
   "outputs": [],
   "source": []
  },
  {
   "cell_type": "code",
   "execution_count": null,
   "metadata": {},
   "outputs": [],
   "source": []
  },
  {
   "cell_type": "code",
   "execution_count": null,
   "metadata": {},
   "outputs": [],
   "source": []
  }
 ],
 "metadata": {
  "kernelspec": {
   "display_name": "Python 3",
   "language": "python",
   "name": "python3"
  },
  "language_info": {
   "codemirror_mode": {
    "name": "ipython",
    "version": 3
   },
   "file_extension": ".py",
   "mimetype": "text/x-python",
   "name": "python",
   "nbconvert_exporter": "python",
   "pygments_lexer": "ipython3",
   "version": "3.7.4"
  }
 },
 "nbformat": 4,
 "nbformat_minor": 4
}
