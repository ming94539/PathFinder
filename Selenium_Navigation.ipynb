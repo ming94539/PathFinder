{
 "cells": [
  {
   "cell_type": "code",
   "execution_count": 116,
   "metadata": {},
   "outputs": [],
   "source": [
    "import pandas as pd\n",
    "import re\n",
    "from selenium import webdriver\n",
    "from selenium.webdriver.support.ui import WebDriverWait\n",
    "from selenium.webdriver.common.action_chains import ActionChains\n",
    "from selenium.webdriver.common.keys import Keys\n",
    "from bs4 import BeautifulSoup"
   ]
  },
  {
   "cell_type": "code",
   "execution_count": 2,
   "metadata": {},
   "outputs": [],
   "source": [
    "browser = webdriver.Chrome(\"./chromedriver\")\n",
    "browser.get(\"https://www.linkedin.com\")"
   ]
  },
  {
   "cell_type": "code",
   "execution_count": 3,
   "metadata": {},
   "outputs": [],
   "source": [
    "username = browser.find_element_by_id(\"session_key\")\n",
    "username.send_keys(\"mjeng@ucsc.edu\")\n",
    "password = browser.find_element_by_id(\"session_password\")\n",
    "password.send_keys(\"CSE115Project\")"
   ]
  },
  {
   "cell_type": "code",
   "execution_count": 4,
   "metadata": {},
   "outputs": [],
   "source": [
    "login_button=browser.find_element_by_class_name(\"sign-in-form__submit-button\")\n",
    "login_button.click()"
   ]
  },
  {
   "cell_type": "code",
   "execution_count": 119,
   "metadata": {},
   "outputs": [],
   "source": [
    "browser.get(\"https://www.linkedin.com/jobs\")"
   ]
  },
  {
   "cell_type": "code",
   "execution_count": 120,
   "metadata": {},
   "outputs": [],
   "source": [
    "job_search_bar = browser.find_element_by_id(\"jobs-search-box-keyword-id-ember37\")\n",
    "job_search_bar.send_keys(\"Software Engineer\")"
   ]
  },
  {
   "cell_type": "code",
   "execution_count": 121,
   "metadata": {
    "scrolled": true
   },
   "outputs": [],
   "source": [
    "job_search_button = browser.find_elements_by_class_name(\"jobs-search-box__submit-button\")\n",
    "job_search_button[0].click()\n",
    "#Potential bug - not able to find element unless i manually inspect  - https://stackoverflow.com/questions/50698342/selenium-cant-find-elements-until-i-inspect-the-page"
   ]
  },
  {
   "cell_type": "code",
   "execution_count": 180,
   "metadata": {},
   "outputs": [
    {
     "name": "stdout",
     "output_type": "stream",
     "text": [
      "You are scraping information about 25 jobs.\n"
     ]
    }
   ],
   "source": [
    "# ------------------ Scraping the Linkedin Job Webpage's left rail (it's a two pane wrapper)\n",
    " # parsing the visible webpage\n",
    "pageSource = browser.page_source\n",
    "lxml_soup = BeautifulSoup(pageSource, 'lxml')\n",
    "# browser.implicitly_wait(10)\n",
    "#job_container = lxml_soup.find('ul', class_ = 'jobs-search-results__list')\n",
    "job_container = lxml_soup.find_all('li', class_ = 'jobs-search-results__list-item')\n",
    "\n",
    "# element = browser.find_element_by_id(\"ember665\")\n",
    "# actions = ActionChains(driver)\n",
    "# actions.move_to_element(element).perform()\n",
    "# driver.execute_script(\"arguments[0].scrollIntoView();\", element)\n",
    "# time.sleep(3)\n",
    "#browser.execute_script(\"window.scrollTo(0, document.body.scrollHeight);\")\n",
    "#Above doesn't seem to grab the entire html thing\n",
    "\n",
    "#print(job_container[0])\n",
    "print('You are scraping information about {} jobs.'.format(len(job_container)))"
   ]
  },
  {
   "cell_type": "code",
   "execution_count": 181,
   "metadata": {},
   "outputs": [
    {
     "data": {
      "text/plain": [
       "<li class=\"jobs-search-results__list-item occludable-update p0 relative jobs-search-results__job-card-search--generic-occludable-area ember-view\" data-occludable-entity-urn=\"urn:li:fs_normalized_jobPosting:2502454326\" id=\"ember312\"><!-- --></li>"
      ]
     },
     "execution_count": 181,
     "metadata": {},
     "output_type": "execute_result"
    }
   ],
   "source": [
    "job_container[20]"
   ]
  },
  {
   "cell_type": "code",
   "execution_count": 182,
   "metadata": {},
   "outputs": [
    {
     "name": "stdout",
     "output_type": "stream",
     "text": [
      "['2473948505', '2486288184', '2477257225', '2473932077', '2469597134', '2505171031', '2486211179', '2484382977', '2487428041', '2483648907', '2482229352', '2487423831', '2479908835', '2486221840', '2482218586', '2504184136', '2504450588', '2504174911', '2486299333', '2505137753', '2502454326', '2487425343', '2483653356', '2504833347', '2482860227']\n",
      "25\n"
     ]
    }
   ],
   "source": [
    "import re\n",
    "id_list = []\n",
    "for job in job_container:\n",
    "    job = str(job)\n",
    "    numbers = re.findall(r'[0-9]+',job)\n",
    "    for i in numbers:\n",
    "        if len(i) == 10: #hardcoding that ID is always 10 digits\n",
    "            id_list.append(i)\n",
    "            break\n",
    "\n",
    "print(id_list)\n",
    "print(len(id_list))"
   ]
  },
  {
   "cell_type": "code",
   "execution_count": 187,
   "metadata": {},
   "outputs": [],
   "source": [
    "job_links = []\n",
    "for id in id_list: \n",
    "    currUrl = driver.current_url\n",
    "    #firstHalf = driver.current_url.index('currentJobId=')+len('currentJobId=')\n",
    "    firstHalf = driver.current_url.index('?')\n",
    "    secondHalf = driver.current_url.index('keywords')\n",
    "#     jobId = temp.find('a',href=True)['href']\n",
    "#     jobId= jobId.split('/')[3]\n",
    "    newUrl = currUrl[:firstHalf] + '?currentJobId='+id+ '&'+ currUrl[secondHalf:]\n",
    "    job_links.append(newUrl)"
   ]
  },
  {
   "cell_type": "code",
   "execution_count": 189,
   "metadata": {},
   "outputs": [
    {
     "name": "stdout",
     "output_type": "stream",
     "text": [
      "['https://www.linkedin.com/jobs/search/?currentJobId=2473948505&keywords=software%20engineer', 'https://www.linkedin.com/jobs/search/?currentJobId=2486288184&keywords=software%20engineer', 'https://www.linkedin.com/jobs/search/?currentJobId=2477257225&keywords=software%20engineer', 'https://www.linkedin.com/jobs/search/?currentJobId=2473932077&keywords=software%20engineer', 'https://www.linkedin.com/jobs/search/?currentJobId=2469597134&keywords=software%20engineer', 'https://www.linkedin.com/jobs/search/?currentJobId=2505171031&keywords=software%20engineer', 'https://www.linkedin.com/jobs/search/?currentJobId=2486211179&keywords=software%20engineer', 'https://www.linkedin.com/jobs/search/?currentJobId=2484382977&keywords=software%20engineer', 'https://www.linkedin.com/jobs/search/?currentJobId=2487428041&keywords=software%20engineer', 'https://www.linkedin.com/jobs/search/?currentJobId=2483648907&keywords=software%20engineer', 'https://www.linkedin.com/jobs/search/?currentJobId=2482229352&keywords=software%20engineer', 'https://www.linkedin.com/jobs/search/?currentJobId=2487423831&keywords=software%20engineer', 'https://www.linkedin.com/jobs/search/?currentJobId=2479908835&keywords=software%20engineer', 'https://www.linkedin.com/jobs/search/?currentJobId=2486221840&keywords=software%20engineer', 'https://www.linkedin.com/jobs/search/?currentJobId=2482218586&keywords=software%20engineer', 'https://www.linkedin.com/jobs/search/?currentJobId=2504184136&keywords=software%20engineer', 'https://www.linkedin.com/jobs/search/?currentJobId=2504450588&keywords=software%20engineer', 'https://www.linkedin.com/jobs/search/?currentJobId=2504174911&keywords=software%20engineer', 'https://www.linkedin.com/jobs/search/?currentJobId=2486299333&keywords=software%20engineer', 'https://www.linkedin.com/jobs/search/?currentJobId=2505137753&keywords=software%20engineer', 'https://www.linkedin.com/jobs/search/?currentJobId=2502454326&keywords=software%20engineer', 'https://www.linkedin.com/jobs/search/?currentJobId=2487425343&keywords=software%20engineer', 'https://www.linkedin.com/jobs/search/?currentJobId=2483653356&keywords=software%20engineer', 'https://www.linkedin.com/jobs/search/?currentJobId=2504833347&keywords=software%20engineer', 'https://www.linkedin.com/jobs/search/?currentJobId=2482860227&keywords=software%20engineer']\n",
      "25\n"
     ]
    }
   ],
   "source": [
    "print(job_links)\n",
    "print(len(job_links))"
   ]
  },
  {
   "cell_type": "code",
   "execution_count": 190,
   "metadata": {
    "scrolled": true
   },
   "outputs": [],
   "source": [
    "browser.get(job_links[0])"
   ]
  },
  {
   "cell_type": "code",
   "execution_count": 65,
   "metadata": {},
   "outputs": [
    {
     "ename": "TypeError",
     "evalue": "'NoneType' object is not subscriptable",
     "output_type": "error",
     "traceback": [
      "\u001b[0;31m---------------------------------------------------------------------------\u001b[0m",
      "\u001b[0;31mTypeError\u001b[0m                                 Traceback (most recent call last)",
      "\u001b[0;32m<ipython-input-65-76a9200c3e58>\u001b[0m in \u001b[0;36m<module>\u001b[0;34m\u001b[0m\n\u001b[1;32m     23\u001b[0m     \u001b[0;32mtry\u001b[0m\u001b[0;34m:\u001b[0m\u001b[0;34m\u001b[0m\u001b[0;34m\u001b[0m\u001b[0m\n\u001b[0;32m---> 24\u001b[0;31m         \u001b[0mid\u001b[0m \u001b[0;34m=\u001b[0m \u001b[0mjob\u001b[0m\u001b[0;34m.\u001b[0m\u001b[0mfind\u001b[0m\u001b[0;34m(\u001b[0m\u001b[0;34m'a'\u001b[0m\u001b[0;34m,\u001b[0m \u001b[0mhref\u001b[0m\u001b[0;34m=\u001b[0m\u001b[0;32mTrue\u001b[0m\u001b[0;34m)\u001b[0m\u001b[0;34m[\u001b[0m\u001b[0;34m'href'\u001b[0m\u001b[0;34m]\u001b[0m\u001b[0;34m.\u001b[0m\u001b[0msplit\u001b[0m\u001b[0;34m(\u001b[0m\u001b[0;34m'/'\u001b[0m\u001b[0;34m)\u001b[0m\u001b[0;34m[\u001b[0m\u001b[0;36m3\u001b[0m\u001b[0;34m]\u001b[0m\u001b[0;34m\u001b[0m\u001b[0;34m\u001b[0m\u001b[0m\n\u001b[0m\u001b[1;32m     25\u001b[0m     \u001b[0;32mexcept\u001b[0m\u001b[0;34m:\u001b[0m\u001b[0;34m\u001b[0m\u001b[0;34m\u001b[0m\u001b[0m\n",
      "\u001b[0;31mTypeError\u001b[0m: 'NoneType' object is not subscriptable",
      "\nDuring handling of the above exception, another exception occurred:\n",
      "\u001b[0;31mTypeError\u001b[0m                                 Traceback (most recent call last)",
      "\u001b[0;32m<ipython-input-65-76a9200c3e58>\u001b[0m in \u001b[0;36m<module>\u001b[0;34m\u001b[0m\n\u001b[1;32m     24\u001b[0m         \u001b[0mid\u001b[0m \u001b[0;34m=\u001b[0m \u001b[0mjob\u001b[0m\u001b[0;34m.\u001b[0m\u001b[0mfind\u001b[0m\u001b[0;34m(\u001b[0m\u001b[0;34m'a'\u001b[0m\u001b[0;34m,\u001b[0m \u001b[0mhref\u001b[0m\u001b[0;34m=\u001b[0m\u001b[0;32mTrue\u001b[0m\u001b[0;34m)\u001b[0m\u001b[0;34m[\u001b[0m\u001b[0;34m'href'\u001b[0m\u001b[0;34m]\u001b[0m\u001b[0;34m.\u001b[0m\u001b[0msplit\u001b[0m\u001b[0;34m(\u001b[0m\u001b[0;34m'/'\u001b[0m\u001b[0;34m)\u001b[0m\u001b[0;34m[\u001b[0m\u001b[0;36m3\u001b[0m\u001b[0;34m]\u001b[0m\u001b[0;34m\u001b[0m\u001b[0;34m\u001b[0m\u001b[0m\n\u001b[1;32m     25\u001b[0m     \u001b[0;32mexcept\u001b[0m\u001b[0;34m:\u001b[0m\u001b[0;34m\u001b[0m\u001b[0;34m\u001b[0m\u001b[0m\n\u001b[0;32m---> 26\u001b[0;31m         \u001b[0mprint\u001b[0m\u001b[0;34m(\u001b[0m\u001b[0mjob\u001b[0m\u001b[0;34m.\u001b[0m\u001b[0mfind\u001b[0m\u001b[0;34m(\u001b[0m\u001b[0;34m'a'\u001b[0m\u001b[0;34m,\u001b[0m \u001b[0mhref\u001b[0m\u001b[0;34m=\u001b[0m\u001b[0;32mTrue\u001b[0m\u001b[0;34m)\u001b[0m\u001b[0;34m[\u001b[0m\u001b[0;34m'href'\u001b[0m\u001b[0;34m]\u001b[0m\u001b[0;34m)\u001b[0m\u001b[0;34m\u001b[0m\u001b[0;34m\u001b[0m\u001b[0m\n\u001b[0m\u001b[1;32m     27\u001b[0m     \u001b[0;31m#job_ids = re.findall(r'(?!-)([0-9]*)(?=\\?)',job_ids)[0]\u001b[0m\u001b[0;34m\u001b[0m\u001b[0;34m\u001b[0m\u001b[0;34m\u001b[0m\u001b[0m\n\u001b[1;32m     28\u001b[0m     \u001b[0mjob_id\u001b[0m\u001b[0;34m.\u001b[0m\u001b[0mappend\u001b[0m\u001b[0;34m(\u001b[0m\u001b[0mid\u001b[0m\u001b[0;34m)\u001b[0m\u001b[0;34m\u001b[0m\u001b[0;34m\u001b[0m\u001b[0m\n",
      "\u001b[0;31mTypeError\u001b[0m: 'NoneType' object is not subscriptable"
     ]
    }
   ],
   "source": [
    "# setting up list for job information\n",
    "#https://amandeepsaluja.com/extracting-job-information-from-linkedin-jobs-using-beautifulsoup-and-selenium/\n",
    "job_id = []\n",
    "post_title = []\n",
    "company_name = []\n",
    "post_date = []\n",
    "job_location = []\n",
    "job_desc = []\n",
    "level = []\n",
    "emp_type = []\n",
    "functions = []\n",
    "industries = []\n",
    "\n",
    "# for loop for job title, company, id, location and date posted\n",
    "for job in job_container:\n",
    "    \n",
    "    # job title\n",
    "   # job_titles = job.find(\"span\", class_=\"screen-reader-text\").text\n",
    "    #post_title.append(job_titles)\n",
    "    \n",
    "    # linkedin job id\n",
    "   # print(job.find('a', href=True)['href'].split('/'))\n",
    "    try:\n",
    "        id = job.find('a', href=True)['href'].split('/')[3]\n",
    "    except:\n",
    "        print(job.find('a', href=True)['href'])\n",
    "    #job_ids = re.findall(r'(?!-)([0-9]*)(?=\\?)',job_ids)[0]\n",
    "    job_id.append(id)\n",
    "    \n",
    "    # company name\n",
    "#     company_names = job.select_one('img')['alt']\n",
    "#     company_name.append(company_names)\n",
    "    \n",
    "    # job location\n",
    "   # job_locations = job.find(\"span\", class_=\"job-result-card__location\").text\n",
    "    #job_location.append(job_locations)\n",
    "    \n",
    "    # posting date\n",
    "  #  post_dates = job.select_one('time')['datetime']\n",
    " #   post_date.append(post_dates)\n",
    "\n",
    "# for loop for job description and criterias\n",
    "for x in range(1,len(job_id)+1):\n",
    "    \n",
    "    # clicking on different job containers to view information about the job\n",
    "    job_xpath = '/html/body/main/div/section/ul/li[{}]/img'.format(x)\n",
    "    driver.find_element_by_xpath(job_xpath).click()\n",
    "    sleep(3)\n",
    "    \n",
    "    # job description\n",
    "    jobdesc_xpath = '/html/body/main/section/div[2]/section[2]/div'\n",
    "    job_descs = driver.find_element_by_xpath(jobdesc_xpath).text\n",
    "    job_desc.append(job_descs)\n",
    "    \n",
    "    # job criteria container below the description\n",
    "    job_criteria_container = lxml_soup.find('ul', class_ = 'job-criteria__list')\n",
    "    all_job_criterias = job_criteria_container.find_all(\"span\", class_='job-criteria__text job-criteria__text--criteria')\n",
    "    \n",
    "    # Seniority level\n",
    "    seniority_xpath = '/html/body/main/section/div[2]/section[2]/ul/li[1]'\n",
    "    seniority = driver.find_element_by_xpath(seniority_xpath).text.splitlines(0)[1]\n",
    "    level.append(seniority)\n",
    "    \n",
    "    # Employment type\n",
    "    type_xpath = '/html/body/main/section/div[2]/section[2]/ul/li[2]'\n",
    "    employment_type = driver.find_element_by_xpath(type_xpath).text.splitlines(0)[1]\n",
    "    emp_type.append(employment_type)\n",
    "    \n",
    "    # Job function\n",
    "    function_xpath = '/html/body/main/section/div[2]/section[2]/ul/li[3]'\n",
    "    job_function = driver.find_element_by_xpath(function_xpath).text.splitlines(0)[1]\n",
    "    functions.append(job_function)\n",
    "    \n",
    "    # Industries\n",
    "    industry_xpath = '/html/body/main/section/div[2]/section[2]/ul/li[4]'\n",
    "    industry_type = driver.find_element_by_xpath(industry_xpath).text.splitlines(0)[1]\n",
    "    industries.append(industry_type)\n",
    "    \n",
    "    x = x+1"
   ]
  },
  {
   "cell_type": "code",
   "execution_count": 66,
   "metadata": {},
   "outputs": [
    {
     "data": {
      "text/plain": [
       "['2473948505',\n",
       " '2486288184',\n",
       " '2479908835',\n",
       " '2473932077',\n",
       " '2469597134',\n",
       " '2505171031',\n",
       " '2486211179',\n",
       " '2484382977']"
      ]
     },
     "execution_count": 66,
     "metadata": {},
     "output_type": "execute_result"
    }
   ],
   "source": [
    "job_id"
   ]
  },
  {
   "cell_type": "code",
   "execution_count": 121,
   "metadata": {},
   "outputs": [
    {
     "name": "stdout",
     "output_type": "stream",
     "text": [
      "/jobs/view/2479707838/?eBP=CwEAAAF4zTBe81BidYOyNjl6hmBTCajakrqhVZYSjgSNhswOONYh-2bv-zHIk1SU5c0P6F78xxpjGW22MyvbHtFnmNwrseT_EIed2B8q2U0KDahJA1jiZ59ICK5ewdSBsNVH8M-jkfFLrryxqC6Mj5HvtagFpJjd97N5epngo2ukbtZM-8G11CTVXr7gLq6AkSj_IyrXmwnFVm6etiU8ZH59VUxpeNtDm40_DLPd-mkfOc0C8DAj6kdZ-R-lM4qS8e9vuNhkA8CU4QhVmLcgtGTOttCFOPFfalqQgX4w16XePdOlcEV3ABZBVAnNbiXYZ-USS2_32jKCtiMgPJrMTZIBKTdE7cnG6OA4&recommendedFlavor=ACTIVELY_HIRING_COMPANY&refId=uD3mxmBSoN043b40kT6%2FMQ%3D%3D&trackingId=if1Ou%2FfcL9HRT%2FeC4LxEyw%3D%3D&trk=flagship3_search_srp_jobs\n",
      "/jobs/view/2473948505/?eBP=CwEAAAF4zTBe8-s1XUAhzZCQPd84OF_LIeE8IBkD-71wXRbvBaHR6ebjwh_4CyF--8hoB99Kc1nnRhVRT4iifXxdWccCc5C9Ym1CnKMld1Ep_prO1x6ls4zH7bv4OjPpIenFzYg-LpT4IIC4pTZHjkw9JVSj2cb_h7JoOg4ACxUrbE-oA4IjAcc6wJ7lXMa-Vq0H6KGhThpR8bv5BETP8B616JriqXq3LxSxwBhQg6r9lcQsWNNm8wtVLkvrTEqeLIlVzJlmTeCYKVOS8RdeNQ1Ei1Tcm-Q4AA3nT7TymFBuaG6znpvzloT74Kdiq2_cr1DUmgTfJa5E1L54OWqa7-OaKVmGdKSt5arbH-qJetmHsh4CPTAP3z9a11vwsu8apd3A3SpDDSQt&recommendedFlavor=ACTIVELY_HIRING_COMPANY&refId=uD3mxmBSoN043b40kT6%2FMQ%3D%3D&trackingId=jBg7wdQSiOMr6qaYRGrV0w%3D%3D&trk=flagship3_search_srp_jobs\n",
      "/jobs/view/2473932077/?eBP=CwEAAAF4zTBe83PbzvoGvrc5IYY6wKrzwxahc9nyHSNS6_ToBFmz6Ek-1WN4dB7RsbNrSM5svXrVw84y1xSbktHttTqCQhZ38xc6yOsr5p_qnrpLAZDxS6MnbDoah6iQfQMESHnWX7DxPVZcNjEOxhQCwVYetHlfa68k7pIt_CFu7sZw8pyQ1ZMA0XcC_hrD9NeMntx2YvMVW2LDP76Gbe5XKgfN7TERgq3eJJOoIPWShNpm9sXhg4SBvnqidFrglhMmY9rutaw5SHvRj15PW5M5L7ItXHGtovrljuNzRaMJztsQpuN23yv-Oj18quLqJasR00w70rrdU3Nsl6wMg03zlNPqt_-kUXtfqKkL0rNJ1XQn_r2c36OjJbL1EKjMCzfpBGP5aRN0&recommendedFlavor=ACTIVELY_HIRING_COMPANY&refId=uD3mxmBSoN043b40kT6%2FMQ%3D%3D&trackingId=DZJX769DPWneC96P7zO8ZA%3D%3D&trk=flagship3_search_srp_jobs\n",
      "/jobs/view/2486245189/?eBP=CwEAAAF4zTBe81DMD7oNkOZBKgpXnBNyfnq37YAzgWBzjfbCmDjQkgaadj2b-eKuSgwB2cquDwzJ-LuRy-3e3dlYiDX2JE1UmXmaIum1Dr5dVp2Fg8GzmwQo26nb13uNE1iLwD5o5IHeTvhwiacGp7tJJJfOxK6INla1bYHzIhTVXXQIEmqxVOhvAOxZV4KrcYdvxpY4fzy8rpqXHGsQ21oaUT-4_t3ioAEuTIXIapX1HJDXBn7UT0JHUYlwHtxr3auWbZiIJEdF7qWQAAKuLL8No1qmpIbCDal675-Z_yp_RfCvNZHv9qbmy--rnhUB9VwAJKaizn_qJ70h82tm3BZ5nEILJeULyDt_ai7S_ECck_cK16a1x3_Z3ZAaZfqHUBR15mq0Ng&recommendedFlavor=JOB_SEEKER_QUALIFIED&refId=uD3mxmBSoN043b40kT6%2FMQ%3D%3D&trackingId=3eX5A1N3sGyg%2FB63CUYhHQ%3D%3D&trk=flagship3_search_srp_jobs\n",
      "/jobs/view/2483593674/?eBP=JOB_SEARCH_ORGANIC&recommendedFlavor=ACTIVELY_HIRING_COMPANY&refId=uD3mxmBSoN043b40kT6%2FMQ%3D%3D&trackingId=CgzmfsLgMSSkjQ1aLOqE5Q%3D%3D&trk=flagship3_search_srp_jobs\n",
      "/jobs/view/2472238801/?eBP=JOB_SEARCH_ORGANIC&recommendedFlavor=ACTIVELY_HIRING_COMPANY&refId=uD3mxmBSoN043b40kT6%2FMQ%3D%3D&trackingId=DH1GLnsV4Qsk44618doDBQ%3D%3D&trk=flagship3_search_srp_jobs\n",
      "/jobs/view/2477257225/?eBP=CwEAAAF4zTBe82B95bALAZGhDMvrSN-91IXUKSq5_8kmy78pzNHdbRMYXdi5Nuv9z3aXaVKMVnql4NQ6oHzJdDRTZJ8cNIA37vXn8k36wCCg9IBHNcUTZPNaXLorF7sx63ouvahO8UKVW07RWcwzH3-vwwbZDl4r6RXMGO7j3ORy2wNPCXWr0BqNCQLjIudmfsfAM09_ARE6EYfp97yew_9rBUXFwgJZmbjD0adjLIzMyj0wOlfgUZ8uSm7LDPoUFmmJlhJoPcZTq_ePn_eH_rKahYe9986GW16rz6bvmTOTE3NI8KgbpN7bswuV_m2jOOySBlyI0ia_ZqfN8ply5mzTXDY7-KnB5KWt9n-LMMeu_bT0Cx1WfhvyI3_gKPRQmfayn853cVQZ&recommendedFlavor=ACTIVELY_HIRING_COMPANY&refId=uD3mxmBSoN043b40kT6%2FMQ%3D%3D&trackingId=UXvV%2BK%2FEQdCJP2LHtIao3g%3D%3D&trk=flagship3_search_srp_jobs\n",
      "/jobs/view/2483517198/?eBP=CwEAAAF4zTBe87Cz4bqwg2-_-hShhPBjP4jThg5wI2LuC6ITNMmgiQ-DWzgzYSTeFVwoGASpiCwBRiCtsBWQcEwGNYtVOx1hHoG2LMvSKzxbGpNYa5POVKngpMph4ZJmloedD4XJGpPmjRSfysa6Yrja178sPIFiAGTWGyRMPpRhfzdH2M_dBu1hS_cGobp1kTLGQtY_-grshDayFYwfnuvLMk9KT9xbg0Y5Ij2rKiPlZl5bOo7XNan4bbLy7Ld3ruoFW7QXutpI6hsTykBhgnwfC1zn59vDCBKRLrovzZAuO30dR2LtBuC1yVBnuiy3wDuzN8AB53yPVii3InPATBMY2l_Vy1HIcb9z3cAD3RDUQDhG6d-pi4MGzjjvIgaYNGmWcwbpdC-H&recommendedFlavor=ACTIVELY_HIRING_COMPANY&refId=uD3mxmBSoN043b40kT6%2FMQ%3D%3D&trackingId=2lMVwO53r4NwKUg6Nq5ugQ%3D%3D&trk=flagship3_search_srp_jobs\n",
      "/jobs/view/2495200363/?eBP=JOB_SEARCH_ORGANIC&recommendedFlavor=ACTIVELY_HIRING_COMPANY&refId=uD3mxmBSoN043b40kT6%2FMQ%3D%3D&trackingId=I7KbCpEOpqxvAf6McZtCtA%3D%3D&trk=flagship3_search_srp_jobs\n",
      "/jobs/view/2485532790/?eBP=JOB_SEARCH_ORGANIC&recommendedFlavor=ACTIVELY_HIRING_COMPANY&refId=uD3mxmBSoN043b40kT6%2FMQ%3D%3D&trackingId=5mUytYlT5%2FPH%2Bn2IuLoySg%3D%3D&trk=flagship3_search_srp_jobs\n",
      "/jobs/view/2478371050/?eBP=JOB_SEARCH_ORGANIC&recommendedFlavor=ACTIVELY_HIRING_COMPANY&refId=uD3mxmBSoN043b40kT6%2FMQ%3D%3D&trackingId=hhXh6EITNtdm%2FZRP%2Fp9%2B6g%3D%3D&trk=flagship3_search_srp_jobs\n",
      "/jobs/view/2484387372/?eBP=JOB_SEARCH_ORGANIC&recommendedFlavor=ACTIVELY_HIRING_COMPANY&refId=uD3mxmBSoN043b40kT6%2FMQ%3D%3D&trackingId=rMxIXn9WLrjAUElSpKbomQ%3D%3D&trk=flagship3_search_srp_jobs\n"
     ]
    },
    {
     "ename": "TypeError",
     "evalue": "'NoneType' object is not subscriptable",
     "output_type": "error",
     "traceback": [
      "\u001b[0;31m---------------------------------------------------------------------------\u001b[0m",
      "\u001b[0;31mTypeError\u001b[0m                                 Traceback (most recent call last)",
      "\u001b[0;32m<ipython-input-121-982fdf51fb55>\u001b[0m in \u001b[0;36m<module>\u001b[0;34m\u001b[0m\n\u001b[1;32m     18\u001b[0m \u001b[0;34m\u001b[0m\u001b[0m\n\u001b[1;32m     19\u001b[0m     \u001b[0;31m# linkedin job id\u001b[0m\u001b[0;34m\u001b[0m\u001b[0;34m\u001b[0m\u001b[0;34m\u001b[0m\u001b[0m\n\u001b[0;32m---> 20\u001b[0;31m     \u001b[0mjob_ids\u001b[0m \u001b[0;34m=\u001b[0m \u001b[0mjob\u001b[0m\u001b[0;34m.\u001b[0m\u001b[0mfind\u001b[0m\u001b[0;34m(\u001b[0m\u001b[0;34m'a'\u001b[0m\u001b[0;34m,\u001b[0m \u001b[0mhref\u001b[0m\u001b[0;34m=\u001b[0m\u001b[0;32mTrue\u001b[0m\u001b[0;34m)\u001b[0m\u001b[0;34m[\u001b[0m\u001b[0;34m'href'\u001b[0m\u001b[0;34m]\u001b[0m\u001b[0;34m\u001b[0m\u001b[0;34m\u001b[0m\u001b[0m\n\u001b[0m\u001b[1;32m     21\u001b[0m     \u001b[0mprint\u001b[0m\u001b[0;34m(\u001b[0m\u001b[0mjob_ids\u001b[0m\u001b[0;34m)\u001b[0m\u001b[0;34m\u001b[0m\u001b[0;34m\u001b[0m\u001b[0m\n\u001b[1;32m     22\u001b[0m     \u001b[0mjob_ids\u001b[0m \u001b[0;34m=\u001b[0m \u001b[0mre\u001b[0m\u001b[0;34m.\u001b[0m\u001b[0mfindall\u001b[0m\u001b[0;34m(\u001b[0m\u001b[0;34mr'(?!-)([0-9]*)(?=\\?)'\u001b[0m\u001b[0;34m,\u001b[0m\u001b[0mjob_ids\u001b[0m\u001b[0;34m)\u001b[0m\u001b[0;34m[\u001b[0m\u001b[0;36m0\u001b[0m\u001b[0;34m]\u001b[0m\u001b[0;34m\u001b[0m\u001b[0;34m\u001b[0m\u001b[0m\n",
      "\u001b[0;31mTypeError\u001b[0m: 'NoneType' object is not subscriptable"
     ]
    }
   ],
   "source": [
    "job_id = []\n",
    "post_title = []\n",
    "company_name = []\n",
    "post_date = []\n",
    "job_location = []\n",
    "job_desc = []\n",
    "level = []\n",
    "emp_type = []\n",
    "functions = []\n",
    "industries = []\n",
    "\n",
    "# for loop for job title, company, id, location and date posted\n",
    "for job in job_container:\n",
    "    \n",
    "    # job title\n",
    "#     job_titles = job.find(\"span\", class_=\"screen-reader-text\").text\n",
    "#     post_title.append(job_titles)\n",
    "    \n",
    "    # linkedin job id\n",
    "    job_ids = job.find('a', href=True)['href']\n",
    "    print(job_ids)\n",
    "    job_ids = re.findall(r'(?!-)([0-9]*)(?=\\?)',job_ids)[0]\n",
    "    job_id.append(job_ids)\n",
    "    \n",
    "    # company name\n",
    "    company_names = job.select_one('img')['alt']\n",
    "    company_name.append(company_names)\n",
    "    \n",
    "    # job location\n",
    "#     job_locations = job.find(\"span\", class_=\"job-result-card__location\").text\n",
    "#     job_location.append(job_locations)\n",
    "    \n",
    "    # posting date\n",
    "#     post_dates = job.select_one('time')['datetime']\n",
    "#     post_date.append(post_dates)\n",
    "\n",
    "# for loop for job description and criterias\n",
    "for x in range(1,len(job_id)+1):\n",
    "    \n",
    "    # clicking on different job containers to view information about the job\n",
    "    job_xpath = '/html/body/main/div/section/ul/li[{}]/img'.format(x)\n",
    "    driver.find_element_by_xpath(job_xpath).click()\n",
    "    sleep(3)\n",
    "    \n",
    "    # job description\n",
    "    jobdesc_xpath = '/html/body/main/section/div[2]/section[2]/div'\n",
    "    job_descs = driver.find_element_by_xpath(jobdesc_xpath).text\n",
    "    job_desc.append(job_descs)\n",
    "    \n",
    "    # job criteria container below the description\n",
    "    job_criteria_container = lxml_soup.find('ul', class_ = 'job-criteria__list')\n",
    "    all_job_criterias = job_criteria_container.find_all(\"span\", class_='job-criteria__text job-criteria__text--criteria')\n",
    "    \n",
    "    # Seniority level\n",
    "    seniority_xpath = '/html/body/main/section/div[2]/section[2]/ul/li[1]'\n",
    "    seniority = driver.find_element_by_xpath(seniority_xpath).text.splitlines(0)[1]\n",
    "    level.append(seniority)\n",
    "    \n",
    "    # Employment type\n",
    "    type_xpath = '/html/body/main/section/div[2]/section[2]/ul/li[2]'\n",
    "    employment_type = driver.find_element_by_xpath(type_xpath).text.splitlines(0)[1]\n",
    "    emp_type.append(employment_type)\n",
    "    \n",
    "    # Job function\n",
    "    function_xpath = '/html/body/main/section/div[2]/section[2]/ul/li[3]'\n",
    "    job_function = driver.find_element_by_xpath(function_xpath).text.splitlines(0)[1]\n",
    "    functions.append(job_function)\n",
    "    \n",
    "    # Industries\n",
    "    industry_xpath = '/html/body/main/section/div[2]/section[2]/ul/li[4]'\n",
    "    industry_type = driver.find_element_by_xpath(industry_xpath).text.splitlines(0)[1]\n",
    "    industries.append(industry_type)\n",
    "    \n",
    "    x = x+1"
   ]
  },
  {
   "cell_type": "code",
   "execution_count": 117,
   "metadata": {},
   "outputs": [
    {
     "data": {
      "text/plain": [
       "12"
      ]
     },
     "execution_count": 117,
     "metadata": {},
     "output_type": "execute_result"
    }
   ],
   "source": [
    "len(job_id)"
   ]
  },
  {
   "cell_type": "code",
   "execution_count": null,
   "metadata": {},
   "outputs": [],
   "source": [
    "print(len(job_id))\n",
    "print(len(post_date))\n",
    "print(len(company_name))\n",
    "print(len(post_title))\n",
    "print(len(job_location))\n",
    "print(len(job_desc))\n",
    "print(len(level))\n",
    "print(len(emp_type))\n",
    "print(len(functions))\n",
    "print(len(industries))"
   ]
  }
 ],
 "metadata": {
  "kernelspec": {
   "display_name": "Python 3",
   "language": "python",
   "name": "python3"
  },
  "language_info": {
   "codemirror_mode": {
    "name": "ipython",
    "version": 3
   },
   "file_extension": ".py",
   "mimetype": "text/x-python",
   "name": "python",
   "nbconvert_exporter": "python",
   "pygments_lexer": "ipython3",
   "version": "3.7.4"
  }
 },
 "nbformat": 4,
 "nbformat_minor": 4
}
